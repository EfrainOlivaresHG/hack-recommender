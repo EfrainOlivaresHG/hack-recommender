{
 "cells": [
  {
   "cell_type": "markdown",
   "metadata": {
    "extensions": {
     "jupyter_dashboards": {
      "version": 1,
      "views": {
       "grid_default": {
        "col": 0,
        "height": 4,
        "hidden": false,
        "row": 0,
        "width": 12
       },
       "report_default": {
        "hidden": false
       }
      }
     }
    }
   },
   "source": [
    "# Training Classfier from data sets\n",
    "\n",
    "## Input:  tsv formatted file with at least two classes 0/1.  Here's an example"
   ]
  },
  {
   "cell_type": "code",
   "execution_count": 9,
   "metadata": {
    "extensions": {
     "jupyter_dashboards": {
      "version": 1,
      "views": {
       "grid_default": {
        "col": 0,
        "height": 4,
        "hidden": false,
        "row": 4,
        "width": 4
       },
       "report_default": {
        "hidden": false
       }
      }
     }
    }
   },
   "outputs": [
    {
     "name": "stdout",
     "output_type": "stream",
     "text": [
      "DONE! File written to data/170915_manual_tech_consult_training_data_0_1.tsv\n"
     ]
    }
   ],
   "source": [
    "# Combine two files, 0 and 1 classes into one for training the classifier\n",
    "\n",
    "# Assuming input files have columns:\n",
    "# url, end_url, word_count, visible_text\n",
    "# And we want output files with \n",
    "# url, class, visible_text\n",
    "#\n",
    "filenames = [\n",
    "    ('data/170915_manual_no_suppress_noforext_content_evaluate_lang_filtered_visible.tsv', 0),\n",
    "    ('data/170915_manual_tech_consult_noforext_content_evaluate_lang_filtered_visible.tsv', 1)\n",
    "]\n",
    "target_file = 'data/170915_manual_tech_consult_training_data_{}_{}.tsv'.format(\n",
    "    filenames[0][1], filenames[1][1])\n",
    "\n",
    "\n",
    "with open(target_file, 'w') as outfile:\n",
    "    for tup_fname in filenames:\n",
    "        with open(tup_fname[0]) as infile:\n",
    "            for line in infile:\n",
    "                url, end_url, word_count, visible_text = line.split('\\t')\n",
    "                outfile.write(\"{}\\t{}\\t{}\\n\".format(url.strip(), tup_fname[1], visible_text.strip()))\n",
    "\n",
    "print \"DONE! File written to {}\".format(target_file)\n"
   ]
  },
  {
   "cell_type": "code",
   "execution_count": 10,
   "metadata": {},
   "outputs": [
    {
     "name": "stdout",
     "output_type": "stream",
     "text": [
      "4946 lines found in output file data/170915_manual_tech_consult_training_data_0_1.tsv\n"
     ]
    },
    {
     "data": {
      "text/html": [
       "<div>\n",
       "<style>\n",
       "    .dataframe thead tr:only-child th {\n",
       "        text-align: right;\n",
       "    }\n",
       "\n",
       "    .dataframe thead th {\n",
       "        text-align: left;\n",
       "    }\n",
       "\n",
       "    .dataframe tbody tr th {\n",
       "        vertical-align: top;\n",
       "    }\n",
       "</style>\n",
       "<table border=\"1\" class=\"dataframe\">\n",
       "  <thead>\n",
       "    <tr style=\"text-align: right;\">\n",
       "      <th></th>\n",
       "      <th>0</th>\n",
       "      <th>1</th>\n",
       "      <th>2</th>\n",
       "    </tr>\n",
       "  </thead>\n",
       "  <tbody>\n",
       "    <tr>\n",
       "      <th>0</th>\n",
       "      <td>url</td>\n",
       "      <td>0</td>\n",
       "      <td>validate_url: no response</td>\n",
       "    </tr>\n",
       "    <tr>\n",
       "      <th>1</th>\n",
       "      <td>16500.com</td>\n",
       "      <td>0</td>\n",
       "      <td>home 16500 line card manufacturers quick link ...</td>\n",
       "    </tr>\n",
       "    <tr>\n",
       "      <th>2</th>\n",
       "      <td>1800contacts.com</td>\n",
       "      <td>0</td>\n",
       "      <td>contact lenses at 1-800 contacts world's large...</td>\n",
       "    </tr>\n",
       "    <tr>\n",
       "      <th>3</th>\n",
       "      <td>303taxi.com</td>\n",
       "      <td>0</td>\n",
       "      <td>taxi cab service chicago suburbs, ohare and mi...</td>\n",
       "    </tr>\n",
       "    <tr>\n",
       "      <th>4</th>\n",
       "      <td>320westsanantonio.com</td>\n",
       "      <td>0</td>\n",
       "      <td>a php error was encountered severity: notice m...</td>\n",
       "    </tr>\n",
       "  </tbody>\n",
       "</table>\n",
       "</div>"
      ],
      "text/plain": [
       "                       0  1                                                  2\n",
       "0                    url  0                          validate_url: no response\n",
       "1              16500.com  0  home 16500 line card manufacturers quick link ...\n",
       "2       1800contacts.com  0  contact lenses at 1-800 contacts world's large...\n",
       "3            303taxi.com  0  taxi cab service chicago suburbs, ohare and mi...\n",
       "4  320westsanantonio.com  0  a php error was encountered severity: notice m..."
      ]
     },
     "execution_count": 10,
     "metadata": {},
     "output_type": "execute_result"
    }
   ],
   "source": [
    "# View sample data\n",
    "import pandas as pd\n",
    "data = pd.read_csv(target_file, delimiter='\\t', header=None, encoding='utf-8')\n",
    "print len(data), \"lines found in output file {}\".format(target_file)\n",
    "data.loc[data[1] == 1]\n",
    "data.head()"
   ]
  },
  {
   "cell_type": "code",
   "execution_count": 11,
   "metadata": {
    "extensions": {
     "jupyter_dashboards": {
      "version": 1,
      "views": {
       "grid_default": {
        "col": 0,
        "height": 7,
        "hidden": false,
        "row": 8,
        "width": 4
       },
       "report_default": {
        "hidden": false
       }
      }
     }
    }
   },
   "outputs": [
    {
     "name": "stdout",
     "output_type": "stream",
     "text": [
      "Opening data/170915_manual_tech_consult_training_data_0_1.tsv for data and loading X,Y classes\n",
      "\n",
      "Count of classes loaded:\n",
      "HERE!_> <type 'numpy.ndarray'>\n",
      "Training Model ...\n",
      "Start an iteration\n",
      "Creating classifier from clf_factory()\n",
      "Using LogisticRegression classifier\n",
      "Fitting model to X, y training data, this may take a while...\n",
      "DONE training, saving model.\n",
      "Model is saved!\n",
      "precision: [ 0.54610564  0.54569892  0.54618834 ...,  1.          1.          1.        ]\n",
      "recall: [ 1.          0.99836066  0.99836066 ...,  0.00327869  0.00163934  0.        ]\n",
      "CALLING PLOT_PR\n"
     ]
    },
    {
     "data": {
      "text/plain": [
       "<matplotlib.figure.Figure at 0x12718ee90>"
      ]
     },
     "metadata": {},
     "output_type": "display_data"
    },
    {
     "data": {
      "image/png": "[encoded data removed]",
      "text/plain": [
       "<matplotlib.figure.Figure at 0x10a2e6f90>"
      ]
     },
     "metadata": {},
     "output_type": "display_data"
    },
    {
     "name": "stdout",
     "output_type": "stream",
     "text": [
      "Mean: 0.861\tSTD: 0.000\tMEAN_SCORES\t0.919\tSTD_SCORES:\t0.000\t\n",
      "0.0908845738943 0.139046079224\n",
      "CPU times: user 1min 4s, sys: 1.28 s, total: 1min 5s\n",
      "Wall time: 1min 5s\n"
     ]
    }
   ],
   "source": [
    "%%time\n",
    "%matplotlib inline\n",
    "import pandas as pd\n",
    "import os\n",
    "import numpy as np\n",
    "import time\n",
    "\n",
    "import classification.train_classifier as bc\n",
    "import classification.utils as utils\n",
    "\n",
    "## ***** INPUTS ***** \n",
    "data_source_file = target_file\n",
    "class_type = \"log_regression\" # svm bayes log_regression\n",
    "base_file = os.path.basename(target_file).replace('.tsv', '')\n",
    "save_path = \"data/model_{}_{}\".format(class_type, base_file)\n",
    "## **** END INPUTS ****\n",
    "\n",
    "\n",
    "models = {\n",
    "    'svm': bc.create_svm_model,\n",
    "    'bayes': bc.create_ngram_model,\n",
    "    'log_regression': bc.create_lg_model\n",
    "}\n",
    "\n",
    "for class_type in [\"log_regression\"]: #,\"bayes\",\"svm\"]:\n",
    "    classifier = models[class_type] \n",
    "\n",
    "    print \"Opening {} for data and loading X,Y classes\".format(data_source_file)\n",
    "    data = pd.read_csv(data_source_file, delimiter='\\t', encoding='utf-8')\n",
    "\n",
    "    X_orig = data.iloc[:, 2].values\n",
    "    Y_orig = data.iloc[:, 1].values\n",
    "\n",
    "    print \"\\nCount of classes loaded:\"\n",
    "    classes = np.unique(Y_orig)\n",
    "\n",
    "    pos_neg = np.logical_or(Y_orig == 1, Y_orig == 0)\n",
    "    X = X_orig[pos_neg]\n",
    "    Y = Y_orig[pos_neg]\n",
    "\n",
    "    Y = utils.tweak_labels(Y, [1])\n",
    "\n",
    "    print \"Training Model ...\"\n",
    "    bc.train_model(classifier, X, Y, save_path, class_type, plot=True);\n"
   ]
  },
  {
   "cell_type": "code",
   "execution_count": null,
   "metadata": {
    "collapsed": true
   },
   "outputs": [],
   "source": []
  }
 ],
 "metadata": {
  "extensions": {
   "jupyter_dashboards": {
    "activeView": "report_default",
    "version": 1,
    "views": {
     "grid_default": {
      "cellMargin": 10,
      "defaultCellHeight": 20,
      "maxColumns": 12,
      "name": "grid",
      "type": "grid"
     },
     "report_default": {
      "name": "report",
      "type": "report"
     }
    }
   }
  },
  "kernelspec": {
   "display_name": "Python 2",
   "language": "python",
   "name": "python2"
  },
  "language_info": {
   "codemirror_mode": {
    "name": "ipython",
    "version": 2
   },
   "file_extension": ".py",
   "mimetype": "text/x-python",
   "name": "python",
   "nbconvert_exporter": "python",
   "pygments_lexer": "ipython2",
   "version": "2.7.10"
  }
 },
 "nbformat": 4,
 "nbformat_minor": 2
}
