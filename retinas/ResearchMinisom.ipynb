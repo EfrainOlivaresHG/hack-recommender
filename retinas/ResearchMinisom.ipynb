{
 "cells": [
  {
   "cell_type": "code",
   "execution_count": 18,
   "metadata": {},
   "outputs": [
    {
     "name": "stdout",
     "output_type": "stream",
     "text": [
      "Training...\n",
      "\n",
      "...ready!\n"
     ]
    },
    {
     "data": {
      "image/png": "[encoded data removed]",
      "text/plain": [
       "<matplotlib.figure.Figure at 0x114a29050>"
      ]
     },
     "metadata": {},
     "output_type": "display_data"
    }
   ],
   "source": [
    "from minisom import MiniSom\n",
    "from numpy import genfromtxt,array,linalg,zeros\n",
    "from numpy import mean,std,apply_along_axis\n",
    "\n",
    "\"\"\"\n",
    "    This script shows how to use MiniSom on the Iris dataset.\n",
    "    In partucular it shows how to train MiniSom and how to visualize\n",
    "    the result.\n",
    "    ATTENTION: matplotlib is required for the visualization.        \n",
    "\"\"\"\n",
    "\n",
    "# reading the iris dataset in the csv format    \n",
    "# (downloaded from http://aima.cs.berkeley.edu/data/iris.csv)\n",
    "data = genfromtxt('data/iris.csv', delimiter=',',usecols=(0,1,2,3))\n",
    "data = apply_along_axis(lambda x: x/linalg.norm(x),1,data)\n",
    "# data normalization\n",
    "\n",
    "### Initialization and training ###\n",
    "som = MiniSom(7,7,4,sigma=1.0,learning_rate=0.5)\n",
    "som.random_weights_init(data)\n",
    "print(\"Training...\")\n",
    "som.train_random(data,100) # random training\n",
    "print(\"\\n...ready!\")\n",
    "\n",
    "# Plotting the response for each pattern in the iris dataset\n",
    "from matplotlib.pyplot import plot,axis,show,pcolor,colorbar,bone\n",
    "%matplotlib inline\n",
    "bone()\n",
    "pcolor(som.distance_map().T) # plotting the distance map as background\n",
    "colorbar()\n",
    "target = genfromtxt('data/iris.csv',\n",
    "                    delimiter=',',\n",
    "                    usecols=(4),\n",
    "                    dtype=str\n",
    "                   ) # loading the labels\n",
    "t = zeros(len(target),dtype=int)\n",
    "t[target == 'setosa'] = 0\n",
    "t[target == 'versicolor'] = 1\n",
    "t[target == 'virginica'] = 2\n",
    "# use different colors and markers for each label\n",
    "markers = ['o','s','D']\n",
    "colors = ['r','g','b']\n",
    "for cnt,xx in enumerate(data):\n",
    "    w = som.winner(xx) # getting the winner\n",
    "    # palce a marker on the winning position for the sample xx\n",
    "    plot(w[0]+.5,\n",
    "         w[1]+.5,\n",
    "         markers[t[cnt]],\n",
    "         markerfacecolor='None',\n",
    "         markeredgecolor=colors[t[cnt]],\n",
    "         markersize=12,markeredgewidth=2)\n",
    "axis([0,7,0,7])\n",
    "show() # show the figure"
   ]
  }
 ],
 "metadata": {
  "kernelspec": {
   "display_name": "Python 2",
   "language": "python",
   "name": "python2"
  },
  "language_info": {
   "codemirror_mode": {
    "name": "ipython",
    "version": 2
   },
   "file_extension": ".py",
   "mimetype": "text/x-python",
   "name": "python",
   "nbconvert_exporter": "python",
   "pygments_lexer": "ipython2",
   "version": "2.7.10"
  }
 },
 "nbformat": 4,
 "nbformat_minor": 2
}
