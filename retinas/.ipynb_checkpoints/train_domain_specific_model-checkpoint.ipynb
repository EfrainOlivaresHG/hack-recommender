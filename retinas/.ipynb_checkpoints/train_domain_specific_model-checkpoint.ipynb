{
 "cells": [
  {
   "cell_type": "code",
   "execution_count": 3,
   "metadata": {
    "collapsed": true
   },
   "outputs": [],
   "source": [
    "import os\n",
    "import re\n",
    "import sys\n",
    "import pandas as pd"
   ]
  },
  {
   "cell_type": "code",
   "execution_count": 4,
   "metadata": {},
   "outputs": [
    {
     "name": "stdout",
     "output_type": "stream",
     "text": [
      "Source Data Files:\n",
      "\tdata_for_classification.tsv\n",
      "\tdata_for_classification_text.txt\n",
      "\tfairy_tales_every_child_should_know_pg14916.txt\n"
     ]
    }
   ],
   "source": [
    "print \"Source Data Files:\"\n",
    "\n",
    "for f in os.listdir('data/'):\n",
    "    print \"\\t\",f"
   ]
  },
  {
   "cell_type": "code",
   "execution_count": 5,
   "metadata": {
    "collapsed": true
   },
   "outputs": [],
   "source": [
    "# data_source should be plain text content.  Content will be parsed for sentences.\n",
    "# This is NOT a csv file with classes.\n",
    "view_tokens=False\n",
    "#data_source = 'data/fairy_tales_every_child_should_know_pg14916.txt'\n",
    "data_source = 'data/data_for_classification_text.txt'\n",
    "model_path  = \"models/{}\".format(re.compile(r'\\..*').sub('', os.path.basename(data_source)))\n",
    "\n",
    "\n",
    "#open input file and tokenize\n",
    "tokens = []\n",
    "with open(data_source, 'r') as source:\n",
    "    for line in source:\n",
    "        line = re.sub(r'\\W', ' ', line) \n",
    "        line_tokens = line.split( )\n",
    "        line_tokens = [token.strip().lower() for token in line_tokens]\n",
    "        tokens.append(line_tokens)\n",
    "\n",
    "if (view_tokens):\n",
    "    for idx in range(2):\n",
    "        print tokens[idx]"
   ]
  },
  {
   "cell_type": "code",
   "execution_count": 6,
   "metadata": {},
   "outputs": [],
   "source": [
    "\"\"\"\n",
    "Source: Natural Language Processing in Action, Chapter 6\n",
    "Section: 6.5.2 Training domain specific word2vec model\n",
    "\"\"\"\n",
    "from gensim.models import word2vec\n",
    "\n",
    "model = word2vec.Word2Vec(\n",
    "    tokens,              # Our array of sentences, each of which is an array of words.\n",
    "    min_count=3,         # Min number of word count to be considered\n",
    "    workers=4,           # Number of threads in parallel. (cores on laptop)\n",
    "    size=300,            # The number of weights in hidden layer, (length of word verctors)\n",
    "    window=6,            # Context window size\n",
    "    sample=1e-3          # subsampling rate for frequent terms\n",
    ")\n",
    "\n",
    "# Save disk space by saving only hidden neurons.  (We lose output weights)\n",
    "model.init_sims(replace=True)\n",
    "\n",
    "model.save(model_path)\n",
    "\n"
   ]
  },
  {
   "cell_type": "code",
   "execution_count": 10,
   "metadata": {},
   "outputs": [
    {
     "name": "stdout",
     "output_type": "stream",
     "text": [
      "[('staffing', 1.0)]\n"
     ]
    }
   ],
   "source": [
    "model = word2vec.Word2Vec.load(model_path)\n",
    "results = model.most_similar(positive=['staffing'], negative=[], topn=20)\n",
    "\n",
    "data = pd.DataFrame(results)\n",
    "data.head(10)\n",
    "\n",
    "word_vectors = KeyedVectors.load(model_path)\n",
    "print model.similar_by_vector(word_vectors['staffing'], topn=1)"
   ]
  },
  {
   "cell_type": "code",
   "execution_count": 25,
   "metadata": {},
   "outputs": [
    {
     "name": "stdout",
     "output_type": "stream",
     "text": [
      "Loading model models/data_for_classification_text\n",
      "Loading models/vectors_array.py word vectors from disk\n",
      "(53561, 300)\n",
      "Training:\n",
      "train_iterations: 500\n",
      "Saving models/som_weights_3\n",
      "DONE\n"
     ]
    }
   ],
   "source": [
    "\"\"\"\n",
    "\t1. Open a pretrained vector set 'data_for_classification_model'\n",
    "\t2. collect all vectors into one single 2d numpy array\n",
    "\t3. pass 2d array to minisom and train a map\n",
    "\t4. Save the map to som_map\n",
    "\"\"\"\n",
    "from ptpython.repl import embed\n",
    "from minisom import MiniSom\n",
    "from gensim.models import KeyedVectors\n",
    "import numpy as np \n",
    "\n",
    "#INPUTS\n",
    "b_collect_new_vectors = False\n",
    "b_save_new_som_weights = True \n",
    "\n",
    "vectors_path = 'models/vectors_array'\n",
    "model_path = 'models/data_for_classification_text'\n",
    "weights_path = 'models/som_weights_3'\n",
    "#ENDINPUTS\n",
    "\n",
    "\n",
    "print \"Loading model {}\".format(model_path)\n",
    "word_vectors = KeyedVectors.load(model_path)\n",
    "model = word2vec.Word2Vec.load(model_path)\n",
    "\n",
    "if (b_collect_new_vectors):\n",
    "    print \"Saving 2d numpy array from word_vectors to {}\".format(vectors_path)\n",
    "    varrs = np.array([word_vectors[word] for word in word_vectors.wv.vocab.keys()])\n",
    "    np.save(vectors_path, varrs)\n",
    "else:\n",
    "    print \"Loading {}.py word vectors from disk\".format(vectors_path)\n",
    "    varrs = np.load(\"{}.npy\".format(vectors_path))\n",
    "\n",
    "print varrs.shape\n",
    "som = MiniSom(x=128, y=128, input_len=300, sigma=10, learning_rate=0.5)\n",
    "\n",
    "if (b_save_new_som_weights):\n",
    "    train_iterations = 500\n",
    "    print \"Training:\"\n",
    "    print \"train_iterations:\",train_iterations\n",
    "    som.train_random(varrs, train_iterations) # random training\n",
    "\n",
    "    print \"Saving {}\".format(weights_path)\n",
    "    np.save(weights_path, som.weights)\n",
    "\n",
    "\n",
    "            \n",
    "print \"DONE\""
   ]
  },
  {
   "cell_type": "code",
   "execution_count": 28,
   "metadata": {},
   "outputs": [
    {
     "data": {
      "image/png": "[encoded data removed]",
      "text/plain": [
       "<matplotlib.figure.Figure at 0x11e025110>"
      ]
     },
     "metadata": {},
     "output_type": "display_data"
    },
    {
     "name": "stdout",
     "output_type": "stream",
     "text": [
      "DONE\n"
     ]
    }
   ],
   "source": [
    "def import_from_data_file(url):\n",
    "    with open(data_source, 'r') as source:\n",
    "        for line in source:\n",
    "            row_els = line.split('\\t')\n",
    "            if url == row_els[0].strip():\n",
    "                row_els = [word.lower().strip() for word in row_els[1].split(' ')]\n",
    "                return row_els\n",
    "            else:\n",
    "                continue\n",
    "    print \"URL NO FOUND IN SOURCE FILE\"\n",
    "    return [] \n",
    "\n",
    "import matplotlib.pyplot as plt\n",
    "%matplotlib inline\n",
    "url = 'amazon.com'\n",
    "data_source = 'data/data_for_classification.tsv'\n",
    "words = import_from_data_file(url)\n",
    "som.weights = np.load(\"{}.npy\".format(weights_path))\n",
    "arrx = []\n",
    "arry = []\n",
    "for word in words:\n",
    "    try:\n",
    "        x, y = som.winner(word_vectors[word])\n",
    "        arrx.append(x)\n",
    "        arry.append(y)\n",
    "        #print word, str(x), str(y)\n",
    "    except:\n",
    "        pass\n",
    "\n",
    "fig = plt.figure(figsize=(14,14))\n",
    "ax = fig.add_subplot(1,1,1)\n",
    "\n",
    "ax.scatter(arrx,arry)\n",
    "plt.axis([0,128,0,128])\n",
    "plt.grid()\n",
    "plt.show()\n",
    "print \"DONE\""
   ]
  }
 ],
 "metadata": {
  "kernelspec": {
   "display_name": "Python 2",
   "language": "python",
   "name": "python2"
  },
  "language_info": {
   "codemirror_mode": {
    "name": "ipython",
    "version": 2
   },
   "file_extension": ".py",
   "mimetype": "text/x-python",
   "name": "python",
   "nbconvert_exporter": "python",
   "pygments_lexer": "ipython2",
   "version": "2.7.10"
  }
 },
 "nbformat": 4,
 "nbformat_minor": 2
}
