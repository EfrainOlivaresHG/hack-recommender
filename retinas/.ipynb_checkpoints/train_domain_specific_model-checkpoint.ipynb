{
 "cells": [
  {
   "cell_type": "code",
   "execution_count": 2,
   "metadata": {
    "collapsed": true,
    "extensions": {
     "jupyter_dashboards": {
      "version": 1,
      "views": {
       "grid_default": {
        "hidden": true
       },
       "report_default": {
        "hidden": true
       }
      }
     }
    }
   },
   "outputs": [],
   "source": [
    "# IMPORT REQUIRED LIBRARIES\n",
    "import os\n",
    "import re\n",
    "import sys\n",
    "import pandas as pd\n",
    "import numpy as np"
   ]
  },
  {
   "cell_type": "markdown",
   "metadata": {},
   "source": [
    "# 0. Data gathering\n",
    "From url_filter data extraction process\n",
    "1. Downloaded html content for staffing and consulting urls\n",
    "2. Downloaded good manual urls content to file as well\n",
    "3. Create a tsv (url, cleaned content, binary) (THIS IS OUR ONE DOC PER LINE FILE)\n",
    "4. Use get_raw_data_good_bad.py script to get one large pool of just the text. (THIS IS OUR CORPUS)"
   ]
  },
  {
   "cell_type": "markdown",
   "metadata": {
    "extensions": {
     "jupyter_dashboards": {
      "version": 1,
      "views": {
       "grid_default": {},
       "report_default": {
        "hidden": false
       }
      }
     }
    }
   },
   "source": [
    "# 1. Import raw text and tokenize"
   ]
  },
  {
   "cell_type": "code",
   "execution_count": 3,
   "metadata": {
    "extensions": {
     "jupyter_dashboards": {
      "version": 1,
      "views": {
       "grid_default": {
        "hidden": true
       },
       "report_default": {
        "hidden": true
       }
      }
     }
    }
   },
   "outputs": [
    {
     "name": "stdout",
     "output_type": "stream",
     "text": [
      "DONE creating tokens, saved in variable 'tokens'\n"
     ]
    }
   ],
   "source": [
    "\"\"\"\n",
    "Take a source of text and create a python list of all the words.\n",
    "The words retain the same sequence and frequence as in original text.\n",
    "INPUT:\n",
    "    data_source, text file, Content will be parsed for sentences. This should be a plain text document\n",
    "\n",
    "OUTPUT:\n",
    "    tokens, list<list>, list of lists containing a one to one mapping of all the words in the provided text.\n",
    "\"\"\"\n",
    "view_tokens=False\n",
    "data_source = 'data/content_good_bad.txt'\n",
    "\n",
    "\n",
    "#open input file and tokenize\n",
    "tokens = []\n",
    "with open(data_source, 'r') as source:\n",
    "    for line in source:\n",
    "        line = re.sub(r'\\W', ' ', line) \n",
    "        line_tokens = line.split( )\n",
    "        line_tokens = [token.strip().lower() for token in line_tokens]\n",
    "        tokens.append(line_tokens)\n",
    "\n",
    "if (view_tokens):\n",
    "    for idx in range(2):\n",
    "        print tokens[idx]\n",
    "\n",
    "print \"DONE creating tokens, saved in variable 'tokens'\""
   ]
  },
  {
   "cell_type": "markdown",
   "metadata": {
    "extensions": {
     "jupyter_dashboards": {
      "version": 1,
      "views": {
       "grid_default": {},
       "report_default": {
        "hidden": false
       }
      }
     }
    }
   },
   "source": [
    "# 2. Create a word2vec model from tokens"
   ]
  },
  {
   "cell_type": "code",
   "execution_count": 4,
   "metadata": {
    "extensions": {
     "jupyter_dashboards": {
      "version": 1,
      "views": {
       "grid_default": {
        "hidden": true
       },
       "report_default": {
        "hidden": true
       }
      }
     }
    }
   },
   "outputs": [
    {
     "name": "stdout",
     "output_type": "stream",
     "text": [
      "New model saved to models/content_good_bad\n"
     ]
    }
   ],
   "source": [
    "\"\"\"\n",
    "Source: Natural Language Processing in Action, Chapter 6\n",
    "Section: 6.5.2 Training domain specific word2vec model\n",
    "INPUT:\n",
    "    tokens, python list, Tokenized data from previous step.\n",
    "    model_path, string, path where we will saved trained model from tokens (depends on last steps data_source)\n",
    "OUTPUT:\n",
    "    model_path, <File on disk> a word2vec trained model from the original tokens.  (hidden weights only)\n",
    "\"\"\"\n",
    "from gensim.models import word2vec\n",
    "\n",
    "model_path  = \"models/{}\".format(re.compile(r'\\..*').sub('', os.path.basename(data_source)))\n",
    "\n",
    "model = word2vec.Word2Vec(\n",
    "    tokens,              # Our array of sentences, each of which is an array of words.\n",
    "    min_count=3,         # Min number of word count to be considered\n",
    "    workers=4,           # Number of threads in parallel. (cores on laptop)\n",
    "    size=300,            # The number of weights in hidden layer, (length of word verctors)\n",
    "    window=6,            # Context window size\n",
    "    sample=1e-3          # subsampling rate for frequent terms\n",
    ")\n",
    "\n",
    "# Save disk space by saving only hidden neurons.  (We lose output weights)\n",
    "model.init_sims(replace=True)\n",
    "\n",
    "model.save(model_path)\n",
    "\n",
    "print \"New model saved to {}\".format(model_path)"
   ]
  },
  {
   "cell_type": "markdown",
   "metadata": {
    "extensions": {
     "jupyter_dashboards": {
      "version": 1,
      "views": {
       "grid_default": {},
       "report_default": {
        "hidden": false
       }
      }
     }
    }
   },
   "source": [
    "# 3. Import model and test it by looking for similar words.."
   ]
  },
  {
   "cell_type": "code",
   "execution_count": 5,
   "metadata": {
    "extensions": {
     "jupyter_dashboards": {
      "version": 1,
      "views": {
       "grid_default": {
        "col": 4,
        "height": 4,
        "hidden": false,
        "row": 0,
        "width": 4
       },
       "report_default": {
        "hidden": false
       }
      }
     }
    }
   },
   "outputs": [
    {
     "name": "stdout",
     "output_type": "stream",
     "text": [
      "Positive: ['contenu']\n",
      "Negative: []\n",
      "              0         1\n",
      "0        accder  0.892432\n",
      "1        fermer  0.850978\n",
      "2        marque  0.848026\n",
      "3     bienvenue  0.846151\n",
      "4      allemand  0.845688\n",
      "5       logware  0.844236\n",
      "6     utilisant  0.843659\n",
      "7       anglais  0.843402\n",
      "8           cur  0.843356\n",
      "9      logiciel  0.840776\n",
      "10  prsentation  0.839189\n",
      "11      cabinet  0.838785\n",
      "12  dexcellence  0.838694\n",
      "13     institut  0.838617\n",
      "14       passez  0.834564\n",
      "15  rfrencement  0.833111\n",
      "16        titre  0.831944\n",
      "17   rechercher  0.830519\n",
      "18   partenaire  0.830139\n",
      "19     annonces  0.829627\n"
     ]
    }
   ],
   "source": [
    "\"\"\"\n",
    "Load a previously saved word2vec model and use vector math to find words deemed 'similar'\n",
    "\n",
    "INPUT:\n",
    "    model_path: string, path to file containing previously trained set of word2vec vectors.\n",
    "OUTPUT:\n",
    "    positive: list<string>, a list of words to find similar words to.\n",
    "    negavite: list<string>, a list of words whose vectors get subtracted before finding similarity\n",
    "\n",
    "Output is displayed to console.\n",
    "\"\"\"\n",
    "import pandas as pd\n",
    "from gensim.models import KeyedVectors\n",
    "from gensim.models import word2vec\n",
    "\n",
    "# INTPUTS: aws, doctor, contenu, \n",
    "positive = ['contenu']\n",
    "negative = []\n",
    "\n",
    "model = word2vec.Word2Vec.load(model_path)\n",
    "results = model.most_similar(positive=positive, negative=negative, topn=20)\n",
    "# print results\n",
    "data = pd.DataFrame(results)\n",
    "\n",
    "print \"Positive: {}\".format(positive)\n",
    "print \"Negative: {}\".format(negative)\n",
    "print data.head(20)"
   ]
  },
  {
   "cell_type": "markdown",
   "metadata": {
    "extensions": {
     "jupyter_dashboards": {
      "version": 1,
      "views": {
       "grid_default": {},
       "report_default": {
        "hidden": false
       }
      }
     }
    }
   },
   "source": [
    "# 4. Create a 2D map from the vectors in the saved model.  (Retina)"
   ]
  },
  {
   "cell_type": "code",
   "execution_count": 6,
   "metadata": {
    "extensions": {
     "jupyter_dashboards": {
      "version": 1,
      "views": {
       "grid_default": {
        "col": 8,
        "height": 6,
        "hidden": false,
        "row": 0,
        "width": 4
       },
       "report_default": {
        "hidden": false
       }
      }
     }
    }
   },
   "outputs": [
    {
     "name": "stdout",
     "output_type": "stream",
     "text": [
      "Loading model models/content_good_bad\n",
      "Loading models/vectors_array.py word vectors from disk\n",
      "(79003, 300)\n",
      "DONE\n"
     ]
    }
   ],
   "source": [
    "\"\"\"\n",
    "This section creates the semantic map from the hidden layer vectors.\n",
    "\t1. Open a pretrained vector set 'data_for_classification_model'\n",
    "\t2. collect all vectors into one single 2d numpy array\n",
    "\t3. pass 2d array to minisom and train a map\n",
    "\t4. Save the map to som_map\n",
    "    \n",
    "INPUTS:\n",
    "    model_path, string, path to file for previously trained model from raw text\n",
    "    vectors_path, string, path to file where only numerical vectors will be saved to pass to minisom\n",
    "    weights_path, string, path to map weights defining the trained 2d minisom\n",
    "    b_collect_new_vectors, boolean, recollect the vector file (if we updated the model)\n",
    "    b_save_new_som_weights, boolean, recalculate and overwrite the weights for the 2d map.\n",
    "    training inputs:\n",
    "    _sigma: float\n",
    "    _learning_rate: float\n",
    "    _train_iterations: int\n",
    "OUTPUT:\n",
    "    Depending on the booleans, the files at vectors_path and weights_path will be overwritten or created.\n",
    "\"\"\"\n",
    "from minisom import MiniSom\n",
    "from gensim.models import KeyedVectors\n",
    "from gensim.models import word2vec\n",
    "import numpy as np \n",
    "\n",
    "#INPUTS\n",
    "b_collect_new_vectors = False\n",
    "b_save_new_som_weights = False \n",
    "vectors_path = 'models/vectors_array'\n",
    "weights_path = 'models/som_weights_3'\n",
    "# TRAINING INPUTS\n",
    "_sigma = 5\n",
    "_learning_rate = 0.8\n",
    "_train_iterations = 200\n",
    "#ENDINPUTS\n",
    "\n",
    "\n",
    "print \"Loading model {}\".format(model_path)\n",
    "word_vectors = KeyedVectors.load(model_path)\n",
    "model = word2vec.Word2Vec.load(model_path)\n",
    "\n",
    "if (b_collect_new_vectors):\n",
    "    print \"Saving 2d numpy array from word_vectors to {}\".format(vectors_path)\n",
    "    varrs = np.array([word_vectors[word] for word in word_vectors.wv.vocab.keys()])\n",
    "    np.save(vectors_path, varrs)\n",
    "else:\n",
    "    print \"Loading {}.py word vectors from disk\".format(vectors_path)\n",
    "    varrs = np.load(\"{}.npy\".format(vectors_path))\n",
    "\n",
    "print varrs.shape\n",
    "som = MiniSom(x=128, y=128, input_len=300, sigma=_sigma, learning_rate=_learning_rate)\n",
    "som.random_weights_init(varrs)\n",
    "if (b_save_new_som_weights):\n",
    "    print \"Training:\"\n",
    "    print \"sigma:\", _sigma, \"learning_rate:\", _learning_rate, \"train_iterations:\",_train_iterations\n",
    "    som.train_random(varrs, _train_iterations) # random training\n",
    "\n",
    "    print \"Saving {}\".format(weights_path)\n",
    "    np.save(weights_path, som.weights)\n",
    "\n",
    "\n",
    "            \n",
    "print \"DONE\""
   ]
  },
  {
   "cell_type": "markdown",
   "metadata": {},
   "source": [
    "# 5. Create a list of unique words"
   ]
  },
  {
   "cell_type": "code",
   "execution_count": 7,
   "metadata": {
    "scrolled": true
   },
   "outputs": [
    {
     "name": "stdout",
     "output_type": "stream",
     "text": [
      "Length of words in vocabulary is 79003\n"
     ]
    }
   ],
   "source": [
    "# print \"Length of all tokens is \", len(tokens)\n",
    "# unique_words = []\n",
    "\n",
    "# recompile = True\n",
    "\n",
    "# if recompile:\n",
    "#     print \"Regenerating unique word list\"\n",
    "#     with open('models/unique_words.txt','w') as target:\n",
    "#         for line_list in tokens:\n",
    "#             for word in line_list:\n",
    "#                 if word not in unique_words:\n",
    "#                     unique_words.append(word)\n",
    "#                     target.write(\"{}\\n\".format(word))\n",
    "    \n",
    "# else:\n",
    "#     print \"Reading saved unique word list\"\n",
    "#     with open('models/unique_words.txt', 'r') as source:\n",
    "#         for word in source.readlines():\n",
    "#             unique_words.append(word.strip())\n",
    "    \n",
    "# print \"unique words in vocab is {}\".format(len(unique_words))\n",
    "from gensim.models import KeyedVectors\n",
    "word_vectors = KeyedVectors.load(model_path)\n",
    "unique_words = word_vectors.wv.vocab.keys()\n",
    "print \"Length of words in vocabulary is\", len(unique_words)"
   ]
  },
  {
   "cell_type": "markdown",
   "metadata": {},
   "source": [
    "# 6. Generate a word to location lookup list and fingerprint list"
   ]
  },
  {
   "cell_type": "code",
   "execution_count": null,
   "metadata": {},
   "outputs": [
    {
     "name": "stdout",
     "output_type": "stream",
     "text": [
      "Generating word to location dictionary\n",
      "Number of words is 79003\n",
      "0\n",
      "10000\n"
     ]
    }
   ],
   "source": [
    "def generate_word_to_loc(unique_words, word_vectors, som):\n",
    "    print \"Generating word to location dictionary\"\n",
    "    print \"Number of words is {}\".format(len(unique_words))\n",
    "    word_to_loc = {}\n",
    "    idx = 0\n",
    "    for word in unique_words:\n",
    "        if (idx % 10000==0):\n",
    "            print idx\n",
    "        try:\n",
    "            word_to_loc[word] = som.winner(word_vectors[word])\n",
    "        except:\n",
    "            pass\n",
    "        idx += 1\n",
    "    print \"Completed,word_to_loc is {}\".format(len(word_to_loc))\n",
    "    return word_to_loc\n",
    "\n",
    "word_to_loc = generate_word_to_loc(unique_words, word_vectors, som)\n",
    "\n",
    "def generate_fingerprint_dictionary(word_to_loc, model):\n",
    "    fingerprints = {}\n",
    "    for word, loc in word_to_loc.iteritems():\n",
    "            fingerprints[word] = [loc]\n",
    "            similar_words = model.most_similar(positive=[word], negative=[], topn=20)\n",
    "            [fingerprints[word].append(word_to_loc[tup[0]]) for tup in similar_words] \n",
    "    print \"Completed fingerprints with length {}\".format(len(fingerprints))\n",
    "    return fingerprints\n",
    "\n",
    "regenerate = True\n",
    "if regenerate:\n",
    "    fingerprints = generate_fingerprint_dictionary(word_to_loc, model)\n",
    "print \"DONE\""
   ]
  },
  {
   "cell_type": "code",
   "execution_count": 15,
   "metadata": {},
   "outputs": [
    {
     "name": "stdout",
     "output_type": "stream",
     "text": [
      "\n"
     ]
    }
   ],
   "source": [
    "\n",
    "class Retina:\n",
    "    def __init__(self, _unique_words, _trained_som, _word_vectors, _model):\n",
    "        self.unique_words = _unique_words\n",
    "        self.som = _trained_som\n",
    "        self.word_vectors = _word_vectors\n",
    "        self.model = _model\n",
    "        #self.word_to_loc = _word_to_loc\n",
    "        #self._fingerprints = _fingerprints\n",
    "\n",
    "         \n",
    "    def location(self, word):\n",
    "        #return self.word_to_loc[word]\n",
    "        return self.som.winner(self.word_vectors[word])\n",
    "\n",
    "    def fingerprint(self, item):\n",
    "        if type(item) == type('word'):\n",
    "            fingerprint = [self.location(item)]\n",
    "            similar_words = self.model.most_similar(positive=[item], negative=[], topn=20)\n",
    "            [fingerprint.append(self.location(tup[0])) for tup in similar_words]\n",
    "            return fingerprint\n",
    "            #return self._fingerprints[item]\n",
    "        elif type(item) == type([]):\n",
    "            tups = []\n",
    "            for word in item:\n",
    "                for tup in self.fingerprint(word):\n",
    "                    if tup not in tups:\n",
    "                        tups.append(tup)\n",
    "\n",
    "            return tups\n",
    "            \n",
    "\n",
    "    def fingerprint_x_y(self, word):\n",
    "        xarr = []\n",
    "        yarr = []\n",
    "        for tup in self.fingerprint(word):\n",
    "            xarr.append(tup[0])\n",
    "            yarr.append(tup[1])\n",
    "\n",
    "        return (xarr, yarr)\n",
    "    \n",
    "\n",
    "retina = Retina(unique_words, som, word_vectors, model)"
   ]
  },
  {
   "cell_type": "code",
   "execution_count": 16,
   "metadata": {},
   "outputs": [
    {
     "name": "stdout",
     "output_type": "stream",
     "text": [
      "Location for medical (16, 10)\n",
      "---------\n",
      "Fingerprint for medical [(16, 10), (93, 80), (16, 10), (70, 26), (93, 80), (93, 80), (70, 26), (93, 80), (70, 26), (89, 85), (70, 26), (70, 26), (16, 10), (94, 88), (70, 125), (93, 80), (70, 26), (41, 117), (94, 88), (41, 117), (11, 53)]\n",
      "---------\n",
      "Fingerprint for array medical [(16, 10), (93, 80), (70, 26), (89, 85), (94, 88), (70, 125), (41, 117), (11, 53)]\n",
      "---------\n",
      "XY Fingerprint for medical ([16, 93, 16, 70, 93, 93, 70, 93, 70, 89, 70, 70, 16, 94, 70, 93, 70, 41, 94, 41, 11], [10, 80, 10, 26, 80, 80, 26, 80, 26, 85, 26, 26, 10, 88, 125, 80, 26, 117, 88, 117, 53])\n",
      "---------\n",
      "XY Fingerprint for array medical ([16, 93, 70, 89, 94, 70, 41, 11], [10, 80, 26, 85, 88, 125, 117, 53])\n"
     ]
    }
   ],
   "source": [
    "print \"Location for medical\", retina.location('medical')\n",
    "print \"---------\"\n",
    "print \"Fingerprint for medical\", retina.fingerprint('medical')\n",
    "print \"---------\"\n",
    "print \"Fingerprint for array medical\", retina.fingerprint(['medical'])\n",
    "print \"---------\"\n",
    "print \"XY Fingerprint for medical\", retina.fingerprint_x_y('medical')\n",
    "print \"---------\"\n",
    "print \"XY Fingerprint for array medical\", retina.fingerprint_x_y(['medical'])"
   ]
  },
  {
   "cell_type": "code",
   "execution_count": 17,
   "metadata": {},
   "outputs": [
    {
     "name": "stdout",
     "output_type": "stream",
     "text": [
      "               0         1\n",
      "0          dealt  0.794181\n",
      "1        dealing  0.781541\n",
      "2  communicating  0.763329\n",
      "3  collaborating  0.741985\n",
      "4        merging  0.739591\n",
      "[116, 64, 13, 20, 96, 10, 41, 97, 39, 0, 100, 2, 48, 24, 110, 73, 93, 118]\n",
      "[77, 15, 64, 125, 52, 85, 98, 100, 32, 86, 56, 1, 71, 14, 31, 77, 21, 89]\n"
     ]
    },
    {
     "data": {
      "image/png": "[encoded data removed]",
      "text/plain": [
       "<matplotlib.figure.Figure at 0x122ef1510>"
      ]
     },
     "metadata": {},
     "output_type": "display_data"
    }
   ],
   "source": [
    "import matplotlib.pyplot as plt\n",
    "%matplotlib inline\n",
    "wrd = ['interacting']\n",
    "\n",
    "print pd.DataFrame(model.most_similar(positive=wrd, negative=[], topn=20)).head()\n",
    "\n",
    "arrx, arry = retina.fingerprint_x_y(wrd)\n",
    "print arrx\n",
    "print arry\n",
    "fig = plt.figure(figsize=(14,14))\n",
    "ax = fig.add_subplot(1,1,1)\n",
    "ax.scatter(arrx,arry)\n",
    "plt.axis([0,128,0,128])\n",
    "plt.grid()\n",
    "plt.title(\"unique_id: {}\".format(wrd))\n",
    "#plt.savefig(\"fingerprints/{}.png\".format(unique_id))\n",
    "plt.show()"
   ]
  },
  {
   "cell_type": "code",
   "execution_count": null,
   "metadata": {
    "collapsed": true,
    "extensions": {
     "jupyter_dashboards": {
      "version": 1,
      "views": {
       "grid_default": {},
       "report_default": {
        "hidden": true
       }
      }
     }
    }
   },
   "outputs": [],
   "source": []
  }
 ],
 "metadata": {
  "anaconda-cloud": {},
  "extensions": {
   "jupyter_dashboards": {
    "activeView": "report_default",
    "version": 1,
    "views": {
     "grid_default": {
      "cellMargin": 10,
      "defaultCellHeight": 20,
      "maxColumns": 12,
      "name": "grid",
      "type": "grid"
     },
     "report_default": {
      "name": "report",
      "type": "report"
     }
    }
   }
  },
  "kernelspec": {
   "display_name": "Python 2",
   "language": "python",
   "name": "python2"
  },
  "language_info": {
   "codemirror_mode": {
    "name": "ipython",
    "version": 2
   },
   "file_extension": ".py",
   "mimetype": "text/x-python",
   "name": "python",
   "nbconvert_exporter": "python",
   "pygments_lexer": "ipython2",
   "version": "2.7.10"
  }
 },
 "nbformat": 4,
 "nbformat_minor": 2
}
