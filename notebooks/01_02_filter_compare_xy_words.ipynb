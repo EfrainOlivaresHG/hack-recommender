{
 "cells": [
  {
   "cell_type": "markdown",
   "metadata": {},
   "source": [
    "# Create 4-col tsv readable text from 4-col tsv full content file\n",
    "* The input should be a tsv table with url, end_url, binary, full-content\n",
    "* The output will then be a file with url, end_url, length-readable-text, readable-text"
   ]
  },
  {
   "cell_type": "code",
   "execution_count": 214,
   "metadata": {},
   "outputs": [
    {
     "name": "stdout",
     "output_type": "stream",
     "text": [
      "/Users/efrainolivares/repos/url_classifier_develop/notebooks\n",
      "DONE\n"
     ]
    }
   ],
   "source": [
    "# UTIL function, open a standard 4 column tsv output and return a list of dictionaries\n",
    "# arguments:\n",
    "# source_file: string, path to 4 column tsv, (url, end_url, binary, full_text)\n",
    "# returns: list<dict(url,end_url,binary,description)>\n",
    "import classification.data_extraction_functions as de\n",
    "import os\n",
    "print os.getcwd()\n",
    "\n",
    "base_name = \"language_englishuk\"\n",
    "source_file = 'temp/{}.csv'.format(base_name)\n",
    "target_file = 'temp/{}_visible.tsv'.format(base_name)\n",
    "\n",
    "def open_filter_file(source_file, target_name):\n",
    "    ret_list = []\n",
    "    with open(source_file, 'r') as source, open(target_name, 'w') as target:\n",
    "        for line in source:\n",
    "            url, end_url, binary, full_text = line.split('\\t')\n",
    "            visible_text = de.get_visible_text(full_text.replace('evaluate_content_for_200s: ', '').strip())\n",
    "            len_visible = len(visible_text.split(' '))\n",
    "            target.write('\\t'.join(\n",
    "            [\n",
    "                url,\n",
    "                end_url,\n",
    "                str(len_visible),\n",
    "                str(visible_text.encode('ascii', 'ignore').decode('ascii'))\n",
    "            ]))\n",
    "            target.write('\\n')\n",
    "\n",
    "import csv\n",
    "import sys\n",
    "csv.field_size_limit(sys.maxsize)\n",
    "def open_csv_file(source_file, target_name):\n",
    "    ret_list = []\n",
    "    with open(source_file, 'r') as source, open(target_name, 'w') as target:\n",
    "        sourcereader = csv.reader(source)\n",
    "        for row in sourcereader:\n",
    "            try:\n",
    "                url, end_url, binary, full_text = row[0], row[1], row[2], row[3]\n",
    "                #print url\n",
    "                visible_text = de.get_visible_text(full_text.replace('evaluate_content_for_200s: ', '').strip())\n",
    "                len_visible = len(visible_text.split(' '))\n",
    "                target.write('\\t'.join(\n",
    "                [\n",
    "                    url,\n",
    "                    end_url,\n",
    "                    str(len_visible),\n",
    "                    str(visible_text.encode('ascii', 'ignore').decode('ascii'))\n",
    "                ]))\n",
    "                target.write('\\n')\n",
    "            except:\n",
    "                continue\n",
    "            \n",
    "\n",
    "csv_format = True\n",
    "if csv_format:\n",
    "    res_list = open_csv_file(source_file, target_file)\n",
    "else:\n",
    "    res_list = open_filter_file(source_file, target_file)\n",
    "print \"DONE\"\n",
    "                "
   ]
  },
  {
   "cell_type": "markdown",
   "metadata": {},
   "source": [
    "# Take two visible text files and create map of xy word cross counts\n",
    "* Open both files and gather all words in two separate lists.\n",
    "* Create a dictionary of tuples containing counts for each word ex: \"word\":(x times in file 1, y times in file 2)"
   ]
  },
  {
   "cell_type": "code",
   "execution_count": 302,
   "metadata": {},
   "outputs": [
    {
     "name": "stdout",
     "output_type": "stream",
     "text": [
      "DONE, FOUND THIS MANY WORDS COUNTS: 171272\n"
     ]
    }
   ],
   "source": [
    "# source of interest should be source_2, which ends up on x axis <->\n",
    "source_1 = \"temp/language_englishuk_visible.tsv\"\n",
    "source_2 = \"temp/language_portugese_visible.tsv\"\n",
    "import re\n",
    "from collections import defaultdict\n",
    "\n",
    "\n",
    "def clean_words(arr_words):\n",
    "    # remove anything that has numbers\n",
    "    words = [word for word in arr_words if not any(char.isdigit() for char in word) and re.search('[a-zA-Z]', word)]\n",
    "    # remove anything with these characters\n",
    "    bad_markers = ['=', '>', ')', '(', \"'\", \"[\", \"]\",\".\"]\n",
    "    final_words = []\n",
    "    for word in words:\n",
    "        keep = True\n",
    "        for marker in bad_markers:\n",
    "            if marker in word:\n",
    "                keep = False\n",
    "                continue\n",
    "        if keep:\n",
    "            final_words.append(word)\n",
    "    return final_words\n",
    "    \n",
    "# Helper function to extract all text from a single file\n",
    "def get_dict_word_pairs(source_file2, source_file1):\n",
    "    word_dict = {}\n",
    "    for idx, source_file in enumerate([source_file1, source_file2]):\n",
    "        with open(source_file, 'r') as source:\n",
    "            for line in source:\n",
    "                full_text = line.split('\\t')[3]\n",
    "                words = clean_words(full_text.split(' '))\n",
    "                for idx_word, word in enumerate(words):\n",
    "                    try:\n",
    "                        word_dict[word][idx] += 1\n",
    "                    except:\n",
    "                        word_dict[word] = [0,0]\n",
    "                        word_dict[word][idx] += 1\n",
    "                    if idx_word+1 < len(words):\n",
    "                        try:\n",
    "                            word_dict[\"{} {}\".format(words[idx_word], words[idx_word + 1])][idx] += 1\n",
    "                        except:\n",
    "                            word_dict[\"{} {}\".format(words[idx_word], words[idx_word + 1])] = [0,0]\n",
    "                            word_dict[\"{} {}\".format(words[idx_word], words[idx_word + 1])][idx] += 1\n",
    "                    if idx_word+2 < len(words):\n",
    "                        try:\n",
    "                            word_dict[\"{} {} {}\".format(words[idx_word], words[idx_word + 1],words[idx_word + 2])][idx] += 1\n",
    "                        except:\n",
    "                            word_dict[\"{} {} {}\".format(words[idx_word], words[idx_word + 1],words[idx_word + 2])] = [0,0]\n",
    "                            word_dict[\"{} {} {}\".format(words[idx_word], words[idx_word + 1],words[idx_word + 2])][idx] += 1\n",
    "    return word_dict\n",
    "\n",
    "\n",
    "word_dict = get_dict_word_pairs(source_1, source_2)\n",
    "print \"DONE, FOUND THIS MANY WORDS COUNTS:\", len(word_dict)\n",
    "\n",
    "#clean_words(['=', 'a1', 'good'])            "
   ]
  },
  {
   "cell_type": "code",
   "execution_count": 303,
   "metadata": {},
   "outputs": [
    {
     "data": {
      "image/png": "[encoded data removed]",
      "text/plain": [
       "<matplotlib.figure.Figure at 0x10bae9650>"
      ]
     },
     "metadata": {},
     "output_type": "display_data"
    }
   ],
   "source": [
    "import matplotlib.pyplot as plt\n",
    "%matplotlib inline\n",
    "\n",
    "xarr = []\n",
    "yarr = []\n",
    "for word, xy_pair in word_dict.iteritems():\n",
    "    xarr.append(xy_pair[0])\n",
    "    yarr.append(xy_pair[1])\n",
    "    \n",
    "\n",
    "plt.figure(figsize = (13,13))\n",
    "plt.scatter(xarr,yarr)\n",
    "plt.show()"
   ]
  },
  {
   "cell_type": "code",
   "execution_count": 304,
   "metadata": {},
   "outputs": [
    {
     "name": "stdout",
     "output_type": "stream",
     "text": [
      "\" o \",\" para \",\" da \",\" mais \",\" que \",\" com \",\" na \",\" ao \",\" um \",\" por \",\" ou \",\" dos \",\" uma \",\" das \",\" saiba \",\" saiba mais \",\" sua \",\" servios \",\" como \",\" seu \",\" gesto \",\" todos \",\" empresa \",\" pela \",\" sobre \",\" comprar \",\" produtos \",\" comprar saiba \",\" comprar saiba mais \",\" se \",\" junho \",\" ser \",\" todos os \",\" nossos \",\" para a \",\" dia \",\" para o \",\" informaes \",\" notcias \",\" solues \",\" com a \",\" seus \",\" formao \",\" segurana \",\" empresas \",\" clientes \",\" nacional \",\" programa \",\" de junho \",\" contato \",\" paralisia \",\" experincia \",\" banco \",\" este \",\" desenvolvimento \",\" de junho de \",\" junho de \",\" aos \",\" pelo \",\" bpi \",\" portugal \",\" qualquer \",\" nossa \",\" profissionais \",\" e de \",\" nos \",\" contactos \",\" nosso \",\" aqui \",\" sade \",\" anos \",\" tecnologia \",\" com o \",\" cursos \",\" novo \",\" direitos \",\" informao \",\" vista \",\" atravs \",\" cerebral \",\" acesso \",\" o que \",\" maio \",\" clusula \",\" programa de \",\" escola \",\" est \",\" qualidade \",\" ver \",\" dados \",\" projeto \",\" paralisia cerebral \",\" crdito \",\" sistema \",\" gesto de \",\" carrinho \",\" usurio \",\" educao \",\" curso \",\" leia \",\" ler \",\" brasil \",\" rpida \",\" a sua \",\" o seu \",\" maio de \",\" servio \",\" de maio \",\" superior \",\" todas \",\" anec \",\" de maio de \",\" e a \",\" porto \",\" uso \",\" conta \",\" pblicas \",\" quem \",\" dia de \",\" adicionar \",\" mercado \",\" vida \",\" poltica \",\" adicionar ao \",\" carrinho mais \",\" adicionar ao carrinho \",\" ao carrinho mais \",\" equipamentos \",\" docsmed \",\" voc \",\" ao carrinho \",\" vista rpida \",\" eventos \",\" projetos \",\" foi \",\" h \",\" acessrios \",\" provas \",\" do programa \",\" nas \",\" pessoas \",\" somos \",\" tem \",\" de gesto \",\" leia mais \",\" tinto \",\" computador \",\" capacete \",\" sistemas \",\" centro \",\" saber \",\" entre \",\" de computador \",\" aki \",\" mais vista rpida \",\" programa de computador \",\" ano \",\" mais vista \",\" carrinho mais vista \",\" sempre \",\" energtica \",\" provas pblicas \",\" novidades \",\" livro \",\" associao \",\" muito \",\" toda \",\" melhor \",\" engenharia \",\" lista \",\" sem \",\" mestrado \",\" do programa de \",\" suas \",\" poltica de \",\" pode \",\" forma \",\" energia \",\" de paralisia \",\" estudos \",\" alm \",\" conosco \",\" bem \",\" ferramentas \",\" esta \",\" todas as \",\" de sade \",\" maro \",\" tambm \",\" promoo \",\" janeiro \",\" revista \",\" a docsmed \",\" pgina \",\" mestrado em \",\" rede \",\" minha \",\" encontro \",\" utilizao \",\" cada \"\n"
     ]
    }
   ],
   "source": [
    "# sort through the dictionary and pull out the words closes to the axis of language we want\n",
    "\n",
    "\n",
    "def get_top_hits(word_dict, topn=100, xmin=30, xmax=60000, ymin=0, ymax=2):\n",
    "    final_list = []\n",
    "    for word, xy in word_dict.iteritems():\n",
    "        if xy[0] <= xmax and xy[0] >= xmin and xy[1] <= ymax and xy[1] >= ymin:\n",
    "            final_list.append( (word, xy))\n",
    "    final_list.sort(key=lambda x: x[1][0])\n",
    "    final_list.reverse()\n",
    "    return final_list[:topn]\n",
    "\n",
    "def stringify_list(lhits):\n",
    "    ret_strings = []\n",
    "    for hit in lhits:\n",
    "        #ret_strings.append(\"\\\"(\\\\W {}|{} \\\\W)\\\"\".format(hit[0], hit[0]))\n",
    "        ret_strings.append(\"\\\" {} \\\"\".format(hit[0]))\n",
    "    return ','.join(ret_strings)\n",
    "    \n",
    "        \n",
    "final_list = get_top_hits(word_dict, 200)\n",
    "print stringify_list(final_list)\n",
    "if False:\n",
    "    for item in final_list:\n",
    "        print item"
   ]
  },
  {
   "cell_type": "code",
   "execution_count": 305,
   "metadata": {},
   "outputs": [
    {
     "name": "stdout",
     "output_type": "stream",
     "text": [
      "    [\n",
      "        \"--spanish 200--\", \" la \",\" en \",\" el \",\" para \",\" que \",\" los \",\" con \",\" del \",\" ms \",\" las \",\" de la \",\" un \",\" por \",\" o \",\" su \",\" se \",\" una \",\" al \",\" ver \",\" es \",\" en el \",\" datos \",\" informacin \",\" tu \",\" lo \",\" servicios \",\" sus \",\" en la \",\" de los \",\" contacto \",\" nuestros \",\" ver ms \",\" a la \",\" como \",\" sobre \",\" nuestra \",\" sitio \",\" nuestro \",\" productos \",\" personales \",\" datos personales \",\" cualquier \",\" de las \",\" noticias \",\" uso \",\" todos \",\" nosotros \",\" leer \",\" gestin \",\" accesorios \",\" este \",\" seguir \",\" asyse \",\" desde \",\" soluciones \",\" local: \",\" aviso \",\" te \",\" ser \",\" para el \",\" leyendo \",\" correo: \",\" seguridad \",\" seguir leyendo \",\" local: tel: \",\" servicio \",\" empresa \",\" correo \",\" todos los \",\" tel: correo: \",\" clientes \",\" inicio \",\" somos \",\" alejandro \",\" comprar \",\" privacidad \",\" gama \",\" usuario \",\" est \",\" buenos \",\" si \",\" nos \",\" qu \",\" web: \",\" derechos \",\" todo \",\" esta \",\" sin \",\" le \",\" lnea \",\" que se \",\" de privacidad \",\" construccin \",\" local: tel: correo: \",\" desarrollo \",\" eze \",\" de su \",\" para la \",\" ciudad \",\" puede \",\" a los \",\" mejor \",\" salud \",\" horario \",\" aviso de \",\" sitio web \",\" y de \",\" poltica \",\" nuestras \",\" empresas \",\" acceso \",\" y/o \",\" otros \",\" con la \",\" nuevo \",\" ms informacin \",\" son \",\" aos \",\" chile \",\" facebook: \",\" centro \",\" todas \",\" proyectos \",\" hasta \",\" de nuestros \",\" leer ms \",\" programa \",\" poltica de \",\" condiciones \",\" garca \",\" usted \",\" alejandro garca \",\" venta \",\" profesionales \",\" crdito \",\" de sus \",\" con el \",\" tus \",\" amesti \",\" nombre \",\" y la \",\" sistema \",\" mi \",\" arriendo \",\" buenos aires \",\" sus datos \",\" aires \",\" a travs \",\" cada \",\" entre \",\" travs \",\" pgina \",\" vida \",\" cuenta \",\" cursos \",\" en horario \",\" a las \",\" corte \",\" educacin \",\" santiago \",\" total \",\" nuevos \",\" junio \",\" san \",\" de un \",\" con un \",\" forma \",\" de a \",\" web: ver ms \",\" web: ver \",\" asistencia \",\" diseo \",\" a lea \",\" calidad \",\" lea \",\" mas \",\" argentina \",\" por el \",\" trminos \",\" proteccin \",\" presente \",\" producto \",\" seguro \",\" carrito \",\" trabajo \",\" martina \",\" sistemas \",\" experiencia \",\" nacional \",\" cmo \",\" la martina \",\" la informacin \",\" licenciatura \",\" tecnologa \",\" dos \",\" que el \",\" el uso \",\" mis \",\" ha \",\" eventos \",\n",
      "    ],\n",
      "    [\n",
      "        \"--swedish 200--\", \" och \",\" att \",\" fr \",\" p \",\" r \",\" med \",\" som \",\" en \",\" vi \",\" till \",\" mer \",\" om \",\" ls \",\" av \",\" ls mer \",\" du \",\" har \",\" oss \",\" det \",\" ett \",\" vra \",\" frn \",\" den \",\" din \",\" kan \",\" kr \",\" alla \",\" omrde: \",\" adress: \",\" dig \",\" fr att \",\" nu \",\" vr \",\" eller \",\" ab \",\" kp \",\" hr \",\" pris \",\" galaxy \",\" inte \",\" nya \",\" varukorg \",\" gr \",\" inom \",\" lgg \",\" fretag \",\" kr lgg \",\" kr lgg i \",\" i varukorg \",\" lgg i \",\" lgg i varukorg \",\" nyheter \",\" krning: \",\" blandad krning: \",\" blandad \",\" sek \",\" kontakt \",\" kontakta \",\" vill \",\" pris kp \",\" kv \",\" ls mer kv \",\" mer kv \",\" vad \",\" hos \",\" jag \",\" allt \",\" audi \",\" ditt \",\" stockholm \",\" ska \",\" ny \",\" tjnster \",\" visa \",\" barn \",\" om oss \",\" produkter \",\" se \",\" kontakta oss \",\" iphone \",\" nr \",\" bli \",\" f \",\" hur \",\" bygg \",\" vrt \",\" lkerol \",\" genom \",\" fler \",\" xperia \",\" kommer \",\" dina \",\" vara \",\" kampanj \",\" finns \",\" ta \",\" hem \",\" men \",\" aktier \",\" kunder \",\" gteborg \",\" vi har \",\" frbrukning, \",\" frbrukning, blandad krning: \",\" ver \",\" frbrukning, blandad \",\" mnadsbetalning \",\" km \",\" g \",\" hela \",\" bsta \",\" g/km \",\" sk \",\" ger \",\" sek frbrukning, \",\" km blandad krning: \",\" mnadsbetalning sek frbrukning, \",\" pris: frn \",\" sek mnadsbetalning \",\" bygg din \",\" pris: \",\" sek mnadsbetalning sek \",\" pris: frn sek \",\" mnadsbetalning sek \",\" km blandad \",\" efter \",\" sek frbrukning, blandad \",\" din audi \",\" frn sek \",\" frn sek mnadsbetalning \",\" bygg din audi \",\" upp \",\" audi nu \",\" mer om \",\" din audi nu \",\" hitta \",\" krning: km \",\" r en \",\" blandad krning: km \",\" g/km bygg din \",\" krning: km blandad \",\" frgor \",\" g/km bygg \",\" aktiespararna \",\" krning: g/km \",\" blandad krning: g/km \",\" barn och \",\" olika \",\" krning: g/km bygg \",\" etc \",\" logga \",\" kp kampanj \",\" barn och ungdom: \",\" sdermalm \",\" och ungdom: \",\" tillbehr \",\" ungdom: \",\" rtt \",\" blir \",\" n \",\" senaste \",\" hos oss \",\" samt \",\" comitto \",\" vlj \",\" mer aktiespararna \",\" svenska \",\" r ett \",\" ls mer aktiespararna \",\" vid \",\" behver \",\" det r \",\" var \",\" cloetta \",\" logga in \",\" ha \",\" mot \",\" omrde: sdermalm adress: \",\" sdermalm adress: \",\" sker \",\" omrde: sdermalm \",\" jobba \",\" alltid \",\" enkelt \",\" nytt \",\" hjlper \",\" vlkommen \",\" lg \",\" sedan \",\" ven \",\" manufacturer: \",\" ls mer om \",\" sig \",\" d \",\" er \",\" bra \",\" qty: \",\" stora \",\" galaxy galaxy \",\" medarbetare \",\n",
      "    ],\n",
      "    [\n",
      "        \"--french 200--\", \" et \",\" des \",\" la \",\" les \",\" le \",\" en \",\" du \",\" pour \",\" de la \",\" un \",\" une \",\" par \",\" sur \",\" au \",\" dans \",\" nos \",\" vous \",\" gestion \",\" est \",\" votre \",\" formation \",\" nous \",\" qui \",\" aux \",\" ou \",\" conseil \",\" avec \",\" notre \",\" que \",\" pour les \",\" et de \",\" gestion des \",\" ce \",\" voir \",\" lections \",\" lire \",\" la suite \",\" lire la \",\" les lections \",\" suprieure \",\" vos \",\" du conseil \",\" rsum \",\" sont \",\" lire la suite \",\" pour les lections \",\" du dbat \",\" conseil de \",\" dbat \",\" dbat du conseil \",\" dbat du \",\" du dbat du \",\" du conseil de \",\" indpendante \",\" rsum du \",\" rsum du dbat \",\" indpendante pour les \",\" indpendante pour \",\" suprieure indpendante \",\" suprieure indpendante pour \",\" les lections le \",\" lections le \",\" juin \",\" tous \",\" actualits \",\" et des \",\" son \",\" dans le \",\" dun \",\" il \",\" accueil \",\" de suprieure \",\" conseil de suprieure \",\" de suprieure indpendante \",\" se \",\" la gestion \",\" entreprises \",\" projet \",\" donnes \",\" partenaires \",\" anglais \",\" systme \",\" mai \",\" sa \",\" toutes \",\" dveloppement \",\" de formation \",\" voir plus \",\" ses \",\" projets \",\" banque \",\" la formation \",\" et les \",\" cette \",\" produits \",\" et le \",\" pas \",\" tous les \",\" module \",\" prsentation \",\" dune \",\" tout \",\" sur les \",\" ligne \",\" recherche \",\" sur le \",\" permet \",\" niveau \",\" et la \",\" toutes les \",\" en ligne \",\" professionnelle \",\" de votre \",\" portage \",\" toute \",\" savoir \",\" de la formation \",\" cnfcpp \",\" informations \",\" entre \",\" crdit \",\" agence \",\" pour la \",\" mars \",\" mise \",\" ainsi \",\" compte \",\" qualit \",\" tunisie \",\" espace \",\" ont \",\" recrutement \",\" formation continue \",\" la gestion des \",\" centrale \",\" avril \",\" leur \",\" prparation \",\" cadre \",\" cration \",\" dtail \",\" ne \",\" amply \",\" par le \",\" entreprise \",\" offre \",\" socit \",\" ressources \",\" avis \",\" optiques \",\" cours \",\" vie \",\" tre \",\" autres \",\" dans les \",\" comptabilit \",\" en savoir \",\" depuis \",\" formations \",\" le dtail \",\" groupe \",\" je \",\" ministre \",\" ces \",\" voir le dtail \",\" voir le \",\" rue \",\" paris \",\" personnes \",\" france \",\" bien \",\" leurs \",\" elle \",\" pour le \",\" promotion \",\" offres \",\" chaque \",\" espagnol \",\" dans la \",\" concours \",\" financement \",\" gestion de \",\" savoir plus \",\" le cadre \",\" outils \",\" liste \",\" travail \",\" mon \",\" vente \",\" la banque \",\" ainsi que \",\" accs \",\" domicile \",\" afin \",\" rsultats \",\" dans le cadre \",\" des entreprises \",\" liens \",\" en savoir plus \",\" par les \",\n",
      "    ],\n",
      "    [\n",
      "        \"--danish 200--\", \" og \",\" til \",\" p \",\" er \",\" med \",\" af \",\" en \",\" du \",\" vi \",\" mere \",\" om \",\" ls \",\" det \",\" ls mere \",\" har \",\" aarhus \",\" kan \",\" et \",\" vores \",\" den \",\" der \",\" fra \",\" som \",\" din \",\" kontakt \",\" se \",\" nyheder \",\" ssonen \",\" alle \",\" juni \",\" billeder \",\" eller \",\" vil \",\" her \",\" f \",\" ikke \",\" dig \",\" skal \",\" ved \",\" til at \",\" spillertrup \",\" for at \",\" kommunikation \",\" nr \",\" kbenhavn \",\" kursus \",\" spillertrup ssonen \",\" dit \",\" hos \",\" ogs \",\" aros \",\" ajax \",\" nye \",\" men \",\" var \",\" vre \",\" hvor \",\" jeg \",\" hvad \",\" gr \",\" ny \",\" sg \",\" af de \",\" gode \",\" dansk \",\" fr \",\" brn \",\" nyt \",\" dine \",\" skriv \",\" kvartal \",\" bedste \",\" vi har \",\" bliv \",\" kursus i \",\" billeder ssonen \",\" ind \",\" danske \",\" det er \",\" kurser \",\" ssonen billeder \",\" flere \",\" mange \",\" gratis \",\" op \",\" rhus \",\" r \",\" meget \",\" haderslev \",\" hvis \",\" forside \",\" dato: \",\" hele \",\" god \",\" bde \",\" str \",\" denne \",\" kan du \",\" deres \",\" ssonen billeder ssonen \",\" ajax kbenhavn \",\" sig \",\" der er \",\" nyhedsbrev \",\" alt \",\" om os \",\" maj \",\" ud \",\" ssonen spillertrup \",\" andre \",\" besg \",\" juli \",\" a/s \",\" ssonen spillertrup ssonen \",\" voksne \",\" du kan \",\" salg \",\" lige \",\" tilmeld \",\" add to \",\" produkter \",\" gamle \",\" nu \",\" du er \",\" jeres \",\" personlig \",\" bandage \",\" spillertrup ssonen spillertrup \",\" kontakt os \",\" hvordan \",\" efter \",\" velkommen \",\" bliver \",\" gamle billeder \",\" brug \",\" altid \",\" tilbehr \",\" l \",\" vi str \",\" g \",\" tilbud \",\" bedre \",\" priser \",\" gerne \",\" trnerstab \",\" kjole \",\" shoes \",\" trningstider \",\" derfor \",\" vis \",\" godt \",\" log ind \",\" scene \",\" str p \",\" jul \",\" p store \",\" er en \",\" produktionssttte \",\" skuldre \",\" til en \",\" rejse \",\" lyden \",\" rdgivning \",\" de skuldre \",\" p store scene \",\" af de skuldre \",\" lyden af de \",\" lyden af \",\" str p store \",\" vi str p \",\" store scene \",\" de skuldre vi \",\" skuldre vi \",\" skuldre vi str \",\" du skal \",\" udgivet \",\" apair \",\" kommune \",\" giver \",\" mere om \",\" lg \",\" danmarks \",\" bolig \",\" trnerstab trningstider \",\" siden \",\" nyheder trnerstab \",\" forskellige \",\" dag \",\" unge \",\" kommer \",\" i aarhus \",\" lg i \",\" kom \",\" hjlp \",\" produktionssttte kvartal \",\" juli til \",\" #aarhusiaarhus \",\" kun \",\" danmark \",\" bruger \",\n",
      "    ],\n"
     ]
    },
    {
     "name": "stdout",
     "output_type": "stream",
     "text": [
      "    [\n",
      "        \"--dutch 157--\", \" en \",\" van \",\" het \",\" een \",\" op \",\" voor \",\" je \",\" te \",\" bij \",\" meer \",\" dat \",\" ons \",\" u \",\" zijn \",\" disasters: \",\" aan \",\" onze \",\" van de \",\" uw \",\" in de \",\" om \",\" die \",\" wij \",\" lees \",\" floods; \",\" ook \",\" er \",\" heeft \",\" naar \",\" niet \",\" als \",\" zorg \",\" technological \",\" technological disasters: \",\" natural disasters: \",\" oostende \",\" et \",\" wat \",\" in het \",\" uit \",\" tot \",\" alle \",\" dan \",\" nieuws \",\" maar \",\" over ons \",\" informatie \",\" dit \",\" op de \",\" zonnepanelen \",\" deze \",\" geplaatst \",\" nieuwe \",\" des \",\" accessoires \",\" voor de \",\" al \",\" producten \",\" la \",\" nog \",\" werken \",\" juni \",\" ik \",\" accident; \",\" china \",\" van het \",\" op het \",\" geen \",\" reizen \",\" van een \",\" kan \",\" lees meer \",\" hier \",\" kunnen \",\" hebben \",\" met een \",\" bus \",\" bekijk \",\" wordt \",\" fire \",\" united states \",\" states \",\" na \",\" le \",\" aan de \",\" les \",\" veel \",\" hoe \",\" is een \",\" en de \",\" vacatures \",\" province, \",\" india \",\" voor het \",\" nu \",\" gaat \",\" is het \",\" jaar \",\" n \",\" andere \",\" met de \",\" votre \",\" verder \",\" zo \",\" worden \",\" ze \",\" groep \",\" volledige \",\" gratis \",\" mensen \",\" en het \",\" onder \",\" vous \",\" voor een \",\" collision \",\" waar \",\" leven \",\" zonvaart \",\" brussel-centraal \",\" goed \",\" mei \",\" zorgon \",\" maken \",\" fire in \",\" alles \",\" projecten \",\" earthquake; \",\" advies \",\" dagen \",\" mijn \",\" collision between \",\" brussel \",\" op een \",\" toe \",\" eigen \",\" wil \",\" bij het \",\" over de \",\" arrow_forward \",\" kunt \",\" pour \",\" haar \",\" winkelwagen \",\" antwerpen \",\" fatboy \",\" leren \",\" zal \",\" shipwreck \",\" region, \",\" heel \",\" tijd \",\" eerste \",\" vraag \",\" zoek \",\" algemene \",\" adobe \",\" kwaliteit \",\n",
      "    ],\n",
      "    [\n",
      "        \"--italian 200--\", \" di \",\" il \",\" la \",\" batteria \",\" galaxy \",\" samsung galaxy \",\" del \",\" con \",\" abortion \",\" le \",\" un \",\" da \",\" che \",\" al \",\" batteria samsung \",\" dei \",\" pill \",\" cialis \",\" della \",\" abortion pill \",\" coupon \",\" pi \",\" coupons \",\" servizi \",\" pelle \",\" custodia \",\" eco \",\" eco pelle \",\" custodia eco \",\" custodia eco pelle \",\" batteria samsung galaxy \",\" scopri \",\" naltrexone \",\" una \",\" alla \",\" delle \",\" siamo \",\" su \",\" ed \",\" giugno \",\" si \",\" sito \",\" auricolare \",\" non \",\" prescription \",\" chi \",\" contatti \",\" gli \",\" o \",\" nel \",\" eco pelle samsung \",\" pelle samsung \",\" italia \",\" lg \",\" pelle samsung galaxy \",\" di pi \",\" proteggi display \",\" proteggi \",\" cover \",\" batterie \",\" discount \",\" dal \",\" tutti \",\" questo \",\" carica batterie \",\" per la \",\" carica \",\" chi siamo \",\" scopri di \",\" nokia \",\" cover samsung galaxy \",\" cover samsung \",\" scopri di pi \",\" viagra \",\" sono \",\" eventi \",\" tuo \",\" degli \",\" usb \",\" prodotti \",\" lo \",\" ore \",\" servizio \",\" carica batterie auto \",\" batterie auto \",\" sul \",\" ai \",\" anche \",\" huawei \",\" batteria lg \",\" alle \",\" cavo \",\" mini \",\" il tuo \",\" nella \",\" comuni \",\" mg \",\" ha \",\" vermox \",\" black batteria \",\" ad \",\" sede \",\" micro usb \",\" pink \",\" leggi \",\" cavo micro \",\" cavo micro usb \",\" tua \",\" nostro \",\" per il \",\" tra \",\" amoxicillin \",\" nostri \",\" nostra \",\" ricerca \",\" centro \",\" add to \",\" attivit \",\" siti \",\" pellicole \",\" pellicole proteggi display \",\" pellicole proteggi \",\" nuovo \",\" cialis coupon \",\" informazioni \",\" ci \",\" galaxy mini \",\" aggiungi \",\" stampa \",\" samsung galaxy mini \",\" an abortion \",\" drug \",\" marzo \",\" white batteria \",\" se \",\" cheat \",\" ogni \",\" galaxy note \",\" confronta \",\" acli \",\" carrello \",\" maggio \",\" samsung galaxy note \",\" gestione \",\" impianti \",\" display samsung \",\" noi \",\" proteggi display samsung \",\" tutti i \",\" libro \",\" coupons for \",\" ufficio \",\" fondazione \",\" to wishlist \",\" dose \",\" confronta add \",\" confronta add to \",\" essere \",\" quick view \",\" lumia \",\" tutto \",\" quick view confronta \",\" la nostra \",\" add to wishlist \",\" view confronta \",\" view confronta add \",\" pellicola \",\" pellicola proteggi \",\" dove \",\" pellicola proteggi display \",\" tutte \",\" nuova \",\" progetti \",\" cialis coupons \",\" chiusura \",\" tutte le \",\" a libro \",\" notizie \",\" comunicazione \",\" aprile \",\" samsung batteria \",\" formazione \",\" soluzioni \",\" tab \",\" offerte \",\" chiusura a libro \",\" i nostri \",\" chiusura a \",\" dalla \",\" priligy \",\" roma \",\" milano \",\" aggiungi al \",\" low dose \",\" carrello quick view \",\" la tua \",\" uno \",\" carrello quick \",\" nazionale \",\" al carrello \",\n",
      "    ],\n",
      "    [\n",
      "        \"--czech 200--\", \" na \",\" v \",\" se \",\" o \",\" je \",\" praha \",\" od \",\" vce \",\" ve \",\" si \",\" st \",\" klub \",\" centrum \",\" esk \",\" po \",\" ns \",\" depth \",\" depth depth \",\" u \",\" depth depth depth \",\" za \",\" sluby \",\" zobrazit \",\" kter \",\" bez \",\" triko \",\" nov \",\" spolek \",\" kontakt \",\" jak \",\" prague \",\" zkladn \",\" novinky \",\" zaveno \",\" informac \",\" jsme \",\" dph \",\" tak \",\" nebo \",\" dal \",\" kola \",\" vce informac \",\" sdruen \",\" jsou \",\" vechny \",\" nad \",\" null \",\" spolenost \",\" nae \",\" nm \",\" oddlen \",\" dti \",\" spolenosti \",\" ne \",\" aktuln \",\" vm \",\" ji \",\" tj \",\" o ns \",\" cena \",\" akce \",\" kontakty \",\" ze \",\" systm \",\" pi \",\" dt \",\" kurzy \",\" sportovn \",\" projektu \",\" di \",\" jejich \",\" byty \",\" jako \",\" zdarma \",\" rodinn \",\" pracovn \",\" dn \",\" informace \",\" vhodn \",\" een \",\" projekt \",\" pro dti \",\" p \",\" prodej \",\" dtsk \",\" slueb \",\" k k \",\" vae \",\" bude \",\" od do \",\" organizace \",\" pod \",\" fond \",\" den \",\" obansk \",\" ke \",\" cel \",\" psluenstv \",\" produkty \",\" nadan \",\" doba \",\" r \",\" nadan fond \",\" stedn \",\" byt \",\" brno \",\" asociace \",\" domov \",\" sv \",\" mstsk \",\" stedisko \",\" matesk \",\" mete \",\" charita \",\" praze \",\" zahradn \",\" aktuality \",\" kolen \",\" doplky \",\" plat \",\" pidat \",\" drkov \",\" informac o \",\" tm \",\" dti a \",\" aj \",\" podmnky \",\" praha zobrazit \",\" poboce \",\" vce informac o \",\" otevrac \",\" jin \",\" bez dph \",\" voln \",\" mezi \",\" pes \",\" velk \",\" pro dti a \",\" msta \",\" otevrac doba \",\" potisk \",\" chci \",\" kurz \",\" v rmci \",\" rmci \",\" vhodn pro \",\" zobrazit na \",\" st t \",\" ostatn \",\" na google \",\" skladem \",\" drky \",\" czech \",\" o poboce \",\" dle \",\" t p \",\" informac o poboce \",\" prvn \",\" prahy \",\" google mapch aktuln \",\" o poboce kontakt \",\" otevrac doba po \",\" aktuln otevrac \",\" kontakt oddlen \",\" st t p \",\" ne zaveno \",\" poboce kontakt oddlen \",\" zazen \",\" doba po \",\" mapch \",\" aktuln otevrac doba \",\" firmy \",\" mapch aktuln \",\" karira \",\" na google mapch \",\" poboce kontakt \",\" technick \",\" zobrazit na google \",\" doprava \",\" t st \",\" google mapch \",\" mapch aktuln otevrac \",\" kde \",\" t st t \",\" vy \",\" vzdlvn \",\" sokol \",\" roku \",\" do vce \",\" zpevujc \",\" obansk sdruen \",\" zaveno plat od \",\" podle \",\" zaveno plat \",\" od do vce \",\" ne zaveno plat \",\" plat od \",\" internet a \",\" rodinn centrum \",\" centrum pro \",\n",
      "    ],\n",
      "    [\n",
      "        \"--portugese 200--\", \" o \",\" para \",\" da \",\" mais \",\" que \",\" com \",\" na \",\" ao \",\" um \",\" por \",\" ou \",\" dos \",\" uma \",\" das \",\" saiba \",\" saiba mais \",\" sua \",\" servios \",\" como \",\" seu \",\" gesto \",\" todos \",\" empresa \",\" pela \",\" sobre \",\" comprar \",\" produtos \",\" comprar saiba \",\" comprar saiba mais \",\" se \",\" junho \",\" ser \",\" todos os \",\" nossos \",\" para a \",\" dia \",\" para o \",\" informaes \",\" notcias \",\" solues \",\" com a \",\" seus \",\" formao \",\" segurana \",\" empresas \",\" clientes \",\" nacional \",\" programa \",\" de junho \",\" contato \",\" paralisia \",\" experincia \",\" banco \",\" este \",\" desenvolvimento \",\" de junho de \",\" junho de \",\" aos \",\" pelo \",\" bpi \",\" portugal \",\" qualquer \",\" nossa \",\" profissionais \",\" e de \",\" nos \",\" contactos \",\" nosso \",\" aqui \",\" sade \",\" anos \",\" tecnologia \",\" com o \",\" cursos \",\" novo \",\" direitos \",\" informao \",\" vista \",\" atravs \",\" cerebral \",\" acesso \",\" o que \",\" maio \",\" clusula \",\" programa de \",\" escola \",\" est \",\" qualidade \",\" ver \",\" dados \",\" projeto \",\" paralisia cerebral \",\" crdito \",\" sistema \",\" gesto de \",\" carrinho \",\" usurio \",\" educao \",\" curso \",\" leia \",\" ler \",\" brasil \",\" rpida \",\" a sua \",\" o seu \",\" maio de \",\" servio \",\" de maio \",\" superior \",\" todas \",\" anec \",\" de maio de \",\" e a \",\" porto \",\" uso \",\" conta \",\" pblicas \",\" quem \",\" dia de \",\" adicionar \",\" mercado \",\" vida \",\" poltica \",\" adicionar ao \",\" carrinho mais \",\" adicionar ao carrinho \",\" ao carrinho mais \",\" equipamentos \",\" docsmed \",\" voc \",\" ao carrinho \",\" vista rpida \",\" eventos \",\" projetos \",\" foi \",\" h \",\" acessrios \",\" provas \",\" do programa \",\" nas \",\" pessoas \",\" somos \",\" tem \",\" de gesto \",\" leia mais \",\" tinto \",\" computador \",\" capacete \",\" sistemas \",\" centro \",\" saber \",\" entre \",\" de computador \",\" aki \",\" mais vista rpida \",\" programa de computador \",\" ano \",\" mais vista \",\" carrinho mais vista \",\" sempre \",\" energtica \",\" provas pblicas \",\" novidades \",\" livro \",\" associao \",\" muito \",\" toda \",\" melhor \",\" engenharia \",\" lista \",\" sem \",\" mestrado \",\" do programa de \",\" suas \",\" poltica de \",\" pode \",\" forma \",\" energia \",\" de paralisia \",\" estudos \",\" alm \",\" conosco \",\" bem \",\" ferramentas \",\" esta \",\" todas as \",\" de sade \",\" maro \",\" tambm \",\" promoo \",\" janeiro \",\" revista \",\" a docsmed \",\" pgina \",\" mestrado em \",\" rede \",\" minha \",\" encontro \",\" utilizao \",\" cada \",\n",
      "    ],\n"
     ]
    },
    {
     "name": "stdout",
     "output_type": "stream",
     "text": [
      "    [\n",
      "        \"--german 178--\", \" und \",\" die \",\" der \",\" fr \",\" sie \",\" mit \",\" von \",\" wir \",\" et \",\" im \",\" das \",\" la \",\" des \",\" zu \",\" den \",\" auf \",\" le \",\" ist \",\" nous \",\" ber \",\" mehr \",\" eine \",\" uns \",\" bei \",\" ein \",\" sich \",\" les \",\" kontakt \",\" en \",\" ihre \",\" zum \",\" du \",\" unsere \",\" pour \",\" oder \",\" gmbh \",\" un \",\" auch \",\" am \",\" als \",\" sind \",\" in der \",\" ihr \",\" dem \",\" que \",\" alle \",\" aus \",\" kommentare \",\" nach \",\" zur \",\" kunden \",\" um \",\" fr die \",\" danke \",\" une \",\" es \",\" danke an \",\" wie \",\" einen \",\" einer \",\" juni \",\" dans \",\" sur \",\" tage \",\" einem \",\" nicht \",\" impressum \",\" ab \",\" hotel \",\" durch \",\" notre \",\" wird \",\" akademie \",\" werden \",\" est \",\" unser \",\" au \",\" aegon \",\" jetzt \",\" neue \",\" vous \",\" haben \",\" hat \",\" ce \",\" hier \",\" angebote \",\" sterreich \",\" de la \",\" ich \",\" unserer \",\" nur \",\" il \",\" finden \",\" ber uns \",\" produkte \",\" ihnen \",\" je \",\" tage tage \",\" erfahren \",\" ihren \",\" ihrer \",\" knnen \",\" qui \",\" zubehr \",\" sie sich \",\" unternehmen \",\" informationen \",\" agentur \",\" tage tage tage \",\" wien \",\" vom \",\" mit dem \",\" finden sie \",\" ag \",\" sowie \",\" additiv \",\" webdesign \",\" se \",\" weitere \",\" unseren \",\" bilder \",\" biomrieux \",\" pas \",\" uhr \",\" dieser \",\" di \",\" votre \",\" bei der \",\" themen \",\" seit \",\" vor \",\" dass \",\" wenn \",\" noch \",\" diese \",\" cette \",\" kann \",\" in den \",\" mehr erfahren \",\" bbg \",\" db \",\" mit der \",\" sie die \",\" cms \",\" fr den \",\" joomla \",\" akad \",\" nos \",\" ihrem \",\" sehr \",\" programmierung \",\" unter \",\" leistungen \",\" referenzen \",\" mai \",\" dabei \",\" banking \",\" seminare \",\" ne \",\" aktuelles \",\" umsetzung \",\" beim \",\" sie uns \",\" bitte \",\" template \",\" deutsch \",\" nutzen \",\" urlaub \",\" fr sie \",\" cineplexx \",\" schenker \",\" par \",\" veranstaltungen \",\" joomla cms \",\" angebot \",\" buchen \",\" escapade \",\" wurde \",\n",
      "    ],\n",
      "    [\n",
      "        \"--norwegian 147--\", \" og \",\" til \",\" er \",\" p \",\" av \",\" med \",\" som \",\" en \",\" om \",\" mer \",\" det \",\" alle \",\" vi \",\" les \",\" har \",\" oss \",\" les mer \",\" du \",\" fra \",\" vis \",\" vre \",\" vis alle \",\" kontakt \",\" jeg \",\" et \",\" kan \",\" den \",\" deg \",\" ikke \",\" skal \",\" din \",\" se \",\" eller \",\" kontakt oss \",\" kjp \",\" n \",\" nyhet \",\" nyheter \",\" seg \",\" oslo \",\" dette \",\" legg \",\" fr \",\" det er \",\" f \",\" vr \",\" etter \",\" kr \",\" nye \",\" her \",\" bli \",\" vil \",\" inn \",\" om oss \",\" hjem \",\" ny \",\" ved \",\" produkter \",\" legg til \",\" norge \",\" islands \",\" ut \",\" vrt \",\" r \",\" hva \",\" innen \",\" men \",\" slik \",\" var \",\" mentor \",\" gjr \",\" tjenester \",\" norges \",\" nr \",\" flere \",\" er en \",\" sk \",\" g \",\" noe \",\" siden \",\" beste \",\" alt \",\" legg til sammenligning \",\" til sammenligning \",\" sammenligning \",\" ogs \",\" meny \",\" saint \",\" logg \",\" mange \",\" tilbehr \",\" mot \",\" ta \",\" hvordan \",\" hele \",\" vi har \",\" helse \",\" ansatte \",\" denne \",\" momek \",\" stillinger \",\" andre \",\" ha \",\" bok \",\" dine \",\" blir \",\" han \",\" ledige \",\" informasjon \",\" nsker \",\" er det \",\" god \",\" gratis \",\" pris \",\" vi er \",\" siste \",\" ledige stillinger \",\" gir \",\" opp \",\" terminalen \",\" dette er \",\" logg inn \",\" nytt \",\" min \",\" la \",\" da \",\" juni \",\" norsk \",\" til en \",\" ble \",\" akademika \",\" nettpris: \",\" flg \",\" som er \",\" mer om \",\" erfaring \",\" si \",\" ingen \",\" bergen \",\" tar \",\" np \",\" skanska \",\" g til \",\" bde \",\" vanlig \",\" republic \",\" ditt \",\n",
      "    ],\n",
      "    [\n",
      "        \"--polish 179--\", \" w \",\" na \",\" si \",\" wicej \",\" o \",\" dla \",\" jest \",\" oraz \",\" nie \",\" od \",\" kontakt \",\" nas \",\" jak \",\" informacji \",\" zobacz \",\" czytaj \",\" przez \",\" za \",\" wicej informacji \",\" czy \",\" x x \",\" aktualnoci \",\" strona \",\" po \",\" lub \",\" x x x \",\" szkolenia \",\" ktre \",\" wszystkie \",\" bez \",\" czytaj wicej \",\" strony \",\" danych \",\" nasze \",\" produkty \",\" centrum \",\" autodata \",\" pracy \",\" tylko \",\" agnieszka \",\" usugi \",\" o nas \",\" ze \",\" systemy \",\" oferta \",\" ju \",\" informacje \",\" firma \",\" rozwizania \",\" aby \",\" serwis \",\" zobacz wicej \",\" sprawd \",\" gwna \",\" firmy \",\" dziki \",\" ale \",\" strona gwna \",\" ich \",\" tak \",\" roku \",\" si w \",\" si na \",\" firmie \",\" klientw \",\" dowiedz \",\" tym \",\" przy \",\" bardzo \",\" dowiedz si \",\" dane \",\" zoo \",\" jako \",\" rwnie \",\" modele \",\" gazu \",\" dalej \",\" si z \",\" moesz \",\" nasz \",\" moe \",\" si wicej \",\" czujnik \",\" czerwca \",\" o firmie \",\" dowiedz si wicej \",\" lat \",\" tego \",\" czas \",\" kurs \",\" polityka \",\" czytaj dalej \",\" www \",\" polska \",\" czujnik gazu \",\" ma \",\" bd \",\" naszej \",\" prawa \",\" zapraszamy \",\" usug \",\" naszych \",\" solidworks \",\" praca \",\" stron \",\" cieniowany \",\" pod \",\" czyli \",\" ktry \",\" naszego \",\" plikw \",\" naszym \",\" kariera \",\" warszawa \",\" informacji wicej informacji \",\" realizacja: \",\" nowe \",\" i cieniowany \",\" kwietnia \",\" wicej informacji wicej \",\" zdrowie \",\" alpa \",\" dietetyki \",\" informacji wicej \",\" nam \",\" dzieci \",\" u \",\" mapa \",\" wojewdztwo \",\" nasza \",\" jeli \",\" ci \",\" z in stock \",\" ofert \",\" szukaj \",\" cennik \",\" klienci \",\" in stock \",\" informacji z \",\" z wicej \",\" z wicej informacji \",\" moliwo \",\" z in \",\" ponad \",\" wicej informacji z \",\" mona \",\" jakoci \",\" temat \",\" jestemy \",\" chmura \",\" stronie \",\" kadego \",\" z z \",\" inne \",\" prywatnoci \",\" akcesoria \",\" klienta \",\" biuro \",\" zesp \",\" produktw \",\" ibm \",\" te \",\" bdzie \",\" urzdzenia \",\" punktw, \",\" sposb \",\" znajd \",\" informacji z in \",\" materiay \",\" polsce \",\" pozostae \",\" rynku \",\" wszystkich \",\" serwis www \",\" pozna \",\" badania \",\" maj \",\" nasi \",\" realizacji \",\n",
      "    ],\n",
      "    [\n",
      "        \"--turkish 200--\", \" ve \",\" bir \",\" deri \",\" ok \",\" tarafndan \",\" ile \",\" iin \",\" ye \",\" sandalet \",\" sminin grnmesini stemiyor \",\" ye sminin \",\" ye sminin grnmesini \",\" stemiyor \",\" grnmesini \",\" grnmesini stemiyor \",\" sminin grnmesini \",\" sminin \",\" bayan \",\" bu \",\" holding \",\" zorlu \",\" ayakkab \",\" tm \",\" zorlu holding \",\" tl \",\" rahat \",\" olarak \",\" genel \",\" bilgi \",\" en \",\" rn \",\" zel \",\" kurumsal \",\" her \",\" stanbul \",\" devam \",\" letiim \",\" da \",\" bayan sandalet \",\" primavera \",\" veya \",\" deri bayan \",\" eitim \",\" daha \",\" mali \",\" bot \",\" sistemleri \",\" haberler \",\" eitimi \",\" hakkmzda \",\" sigortas \",\" hizmetleri \",\" ana \",\" ynetim \",\" yeni \",\" beyaz \",\" siyah \",\" rnler \",\" olan \",\" deri bayan sandalet \",\" gn \",\" oku \",\" alan \",\" proje \",\" deri sandalet \",\" grubu \",\" ynetimi \",\" kadn \",\" kurulu \",\" elektrik \",\" topuklu \",\" topuk \",\" sosyal \",\" spor \",\" haziran \",\" nsan \",\" salk \",\" dier \",\" hizmet \",\" haftalk \",\" bak \",\" saksl \",\" dolgu \",\" hakknda \",\" merkezi \",\" fakltesi \",\" devamn \",\" devamn oku \",\" sayfa \",\" hayal \",\" sanayi \",\" dolgu topuk \",\" kalite \",\" ana sayfa \",\" sistemi \",\" retim \",\" yl \",\" duyurular \",\" kumanda \",\" kazanlar \",\" bakanl \",\" hzl \",\" mm \",\" gnlk \",\" nike \",\" zellikler \",\" opsiyonel zellikler \",\" raporu \",\" olmak \",\" merkez \",\" oyun \",\" yazlm \",\" opsiyonel \",\" elek \",\" kaliteli \",\" al \",\" hayat \",\" byk \",\" hayal bir \",\" aegon \",\" bir hayal \",\" dil \",\" bir hayal bir \",\" irket \",\" enerji \",\" renci \",\" mteri \",\" fiyat \",\" borusan \",\" ok rahat \",\" yksek \",\" letm \",\" teekkrler \",\" ak \",\" ilgili \",\" ubemiz \",\" uluslararas \",\" terlik \",\" trkiye \",\" bant \",\" tablolar \",\" yer \",\" anasayfa \",\" tesisleri \",\" kadar \",\" mali tablolar \",\" sandalet ye \",\" dipnotlar \",\" ilk \",\" daire \",\" sandalet ye sminin \",\" gzel \",\" takip \",\" uygun \",\" rahat ve \",\" evre \",\" hava \",\" bir oyun \",\" simli \",\" band \",\" hayal bir oyun \",\" holding bir hayal \",\" grnmesini stemiyor siyah \",\" referanslar \",\" stemiyor siyah \",\" holding bir \",\" zorlu holding bir \",\" dz \",\" financial statement \",\" aratrma \",\" gibi \",\" yaktl \",\" yurt \",\" konveyr \",\" ya \",\" tablo \",\" projeler \",\" ube \",\" kiisel \",\" kariyer \",\" su \",\" kahve \",\" n \",\" katlm \",\" zm \",\" faaliyet \",\" mali tablo \",\" yks \",\" otomatik \",\" formu \",\" iin: \",\" kullanm \",\" sat \",\" blg \",\" yatrm \",\" kapsamnda \",\" haklar \",\" sandalet ok \",\" blten \",\" detay \",\n",
      "    ],\n",
      "    [\n",
      "        \"--englishuk 0--\", ,\n",
      "    ],\n"
     ]
    }
   ],
   "source": [
    "# Final cell, choose a reference language, and get list of keywords against that for the others.\n",
    "languages = [\n",
    "    \"spanish\",\n",
    "    \"swedish\",\n",
    "    \"french\",\n",
    "    \"danish\",\n",
    "    \"dutch\",\n",
    "    \"italian\",\n",
    "    \"czech\",\n",
    "    \"portugese\",\n",
    "    \"german\",\n",
    "    \"norwegian\",\n",
    "    \"polish\",\n",
    "    \"turkish\",\n",
    "    \"englishuk\",\n",
    "]\n",
    "# source of interest should be source_2, which ends up on x axis <->\n",
    "ref_language = \"englishuk\"\n",
    "path_ref_language = \"temp/language_{}_visible.tsv\".format(ref_language)\n",
    "\n",
    "for language in languages:\n",
    "    path_language = \"temp/language_{}_visible.tsv\".format(language)\n",
    "    word_dict = get_dict_word_pairs(path_ref_language, path_language)\n",
    "    final_list = get_top_hits(word_dict, 200)\n",
    "    length_list = len(final_list)\n",
    "    print \"    [\\n        \\\"--{} {}--\\\", {},\\n    ],\".format(language, length_list, stringify_list(final_list))\n"
   ]
  },
  {
   "cell_type": "code",
   "execution_count": 309,
   "metadata": {},
   "outputs": [
    {
     "name": "stdout",
     "output_type": "stream",
     "text": [
      "----------\n",
      "elglobo.com.mx\n",
      "#% starting script\n",
      "\n",
      "processing input\n",
      "\n",
      "elglobo.com.mx\n",
      "http://www.elglobo.com.mx/\n",
      "Foreign\n",
      "25586\n",
      "348\n",
      "0\n",
      "keywords marketing: []\n",
      "0\n",
      "keywords staffing: []\n",
      "2\n",
      "desc marketing: [u'a hr', u'post']\n",
      "1\n",
      "desc staffing: [u'seo']\n",
      "0\n",
      "--marketing-- []\n",
      "1\n",
      "--staffing-- [u'post']\n",
      "0\n",
      " --medical--  []\n",
      "0\n",
      "--goverment-- []\n",
      "0\n",
      "--education-- []\n",
      "0\n",
      "--retail-- []\n",
      "0\n",
      "--food-- []\n",
      "0\n",
      "--emergency services-- []\n",
      "0\n",
      "--banking-- []\n",
      "0\n",
      "--manufacturing-- []\n",
      "0\n",
      "--telecommunications-- []\n",
      "0\n",
      "--hotels-restaurants-- []\n",
      "0\n",
      "--tourist-attractions-- []\n",
      "0\n",
      "--organizations-- []\n",
      "0\n",
      "--animal-rescue-shelter-- []\n",
      "0\n",
      "--military-- []\n",
      "29\n",
      "--spanish 200-- [u' la ', u' en ', u' el ', u' para ', u' que ', u' los ', u' con ', u' del ', u' por ', u' o ', u' tu ', u' lo ', u' nuestros ', u' nuestra ', u' nuestro ', u' todos ', u' aviso ', u' te ', u' todos los ', u' inicio ', u' derechos ', u' todo ', u' mejor ', u' aviso de ', u' nuestras ', u' nombre ', u' mi ', u' producto ', u' eventos ']\n",
      "1\n",
      "--swedish 200-- [u' en ']\n",
      "3\n",
      "--french 200-- [u' la ', u' en ', u' que ']\n",
      "1\n",
      "--danish 200-- [u' en ']\n",
      "3\n",
      "--dutch 157-- [u' en ', u' te ', u' la ']\n",
      "5\n",
      "--italian 200-- [u' la ', u' del ', u' con ', u' o ', u' lo ']\n",
      "1\n",
      "--czech 200-- [u' o ']\n",
      "7\n",
      "--portugese 200-- [u' o ', u' para ', u' que ', u' por ', u' todos ', u' eventos ', u' toda ']\n",
      "3\n",
      "--german 178-- [u' la ', u' en ', u' que ']\n",
      "2\n",
      "--norwegian 147-- [u' en ', u' la ']\n",
      "2\n",
      "--polish 179-- [u' o ', u' te ']\n",
      "1\n",
      "--turkish 200-- [u' en ']\n",
      "\n"
     ]
    }
   ],
   "source": [
    "# ambientalbr.com.br\n",
    "!. ../set_flag/return_full_text_on; echo elglobo.com.mx | python ../bin/urlChecker.py | python ../classifier/classify.py > temp_file.tsv\n",
    "with open(\"temp_file.tsv\",'r') as source:\n",
    "    for line in source:\n",
    "        cols = line.split('\\t')\n",
    "        for col in cols:\n",
    "            print col"
   ]
  }
 ],
 "metadata": {
  "kernelspec": {
   "display_name": "Python 2",
   "language": "python",
   "name": "python2"
  },
  "language_info": {
   "codemirror_mode": {
    "name": "ipython",
    "version": 2
   },
   "file_extension": ".py",
   "mimetype": "text/x-python",
   "name": "python",
   "nbconvert_exporter": "python",
   "pygments_lexer": "ipython2",
   "version": "2.7.10"
  }
 },
 "nbformat": 4,
 "nbformat_minor": 2
}
