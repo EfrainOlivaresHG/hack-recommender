{
 "cells": [
  {
   "cell_type": "markdown",
   "metadata": {
    "extensions": {
     "jupyter_dashboards": {
      "version": 1,
      "views": {
       "grid_default": {
        "col": 0,
        "height": 4,
        "hidden": false,
        "row": 0,
        "width": 12
       },
       "report_default": {
        "hidden": false
       }
      }
     }
    }
   },
   "source": [
    "# Training Classfier from data sets\n",
    "\n",
    "## Input:  tsv formatted file with at least two classes 0/1.  Here's an example"
   ]
  },
  {
   "cell_type": "code",
   "execution_count": 21,
   "metadata": {
    "extensions": {
     "jupyter_dashboards": {
      "version": 1,
      "views": {
       "grid_default": {
        "col": 0,
        "height": 4,
        "hidden": false,
        "row": 4,
        "width": 4
       },
       "report_default": {
        "hidden": false
       }
      }
     }
    }
   },
   "outputs": [
    {
     "name": "stdout",
     "output_type": "stream",
     "text": [
      "16 lines found in output file data/03_final_training_sheets/test_data_staffing.tsv\n",
      "                         0                                                  1  \\\n",
      "0               select.com  a leader of the temporary staffing industry| s...   \n",
      "1           teksystems.com  teksystems services industries it careers cont...   \n",
      "2                modis.com  modis it engineering staffing tech and enginee...   \n",
      "3                52ltd.com  tech creative staffing in portland, seattle, s...   \n",
      "4      wunderlandgroup.com  staffing employment agency recruiters who care...   \n",
      "5             stafflink.ca  stafflink it staffing company hire it staff in...   \n",
      "6        bridge-talent.com  bridge technical talent it staffing in rhode i...   \n",
      "7             edgelink.com  it staffing portland it staffing denver techno...   \n",
      "8               epitec.com  epitec professional it staffing employment age...   \n",
      "9            diversant.com  it recruiter it staffing companies diversant n...   \n",
      "10              hgdata.com  hg data menu logout login contact us fuel your...   \n",
      "11          rightscale.com  rightscale cloud management log in cloud manag...   \n",
      "12              kaseya.com  kaseya it management and monitoring solutions ...   \n",
      "13               veeco.com  veeco toggle navigation menu investors careers...   \n",
      "14  digitalinstruments.com  digital instruments, inc. solutions engineerin...   \n",
      "15                ucsb.edu  home university of california, santa barbara s...   \n",
      "\n",
      "    2  \n",
      "0   1  \n",
      "1   1  \n",
      "2   1  \n",
      "3   1  \n",
      "4   1  \n",
      "5   1  \n",
      "6   1  \n",
      "7   1  \n",
      "8   1  \n",
      "9   1  \n",
      "10  0  \n",
      "11  0  \n",
      "12  0  \n",
      "13  0  \n",
      "14  0  \n",
      "15  0  \n",
      "DONE!\n"
     ]
    }
   ],
   "source": [
    "# Combine two files, 0 and 1 classes into one for training the classifier\n",
    "filenames = [\n",
    "    'data/02_training_sheets/test_staff_1.tsv',\n",
    "    'data/02_training_sheets/test_0.tsv'\n",
    "]\n",
    "\n",
    "target_file = 'data/03_final_training_sheets/test_data_staffing.tsv'\n",
    "with open(target_file, 'w') as outfile:\n",
    "    for fname in filenames:\n",
    "        with open(fname) as infile:\n",
    "            for line in infile:\n",
    "                outfile.write(line)\n",
    "\n",
    "\n",
    "# widget imports\n",
    "import ipywidgets as widgets\n",
    "\n",
    "# View sample data\n",
    "import pandas as pd\n",
    "data = pd.read_csv(target_file, delimiter='\\t', header=None, encoding='utf-8')\n",
    "print len(data), \"lines found in output file {}\".format(target_file)\n",
    "print data\n",
    "print \"DONE!\""
   ]
  },
  {
   "cell_type": "code",
   "execution_count": 2,
   "metadata": {
    "extensions": {
     "jupyter_dashboards": {
      "version": 1,
      "views": {
       "grid_default": {
        "col": 4,
        "height": 4,
        "hidden": false,
        "row": 4,
        "width": 4
       },
       "report_default": {
        "hidden": false
       }
      }
     }
    }
   },
   "outputs": [
    {
     "data": {
      "application/vnd.jupyter.widget-view+json": {
       "model_id": "f6fe9d235af84a91b02f1fcae6c9c413"
      }
     },
     "metadata": {},
     "output_type": "display_data"
    },
    {
     "data": {
      "application/vnd.jupyter.widget-view+json": {
       "model_id": "4f2ed8d4b201435c95da4c3080dbc745"
      }
     },
     "metadata": {},
     "output_type": "display_data"
    }
   ],
   "source": [
    "import ipywidgets as widgets\n",
    "ctl_input_file = widgets.Text(placeholder=\"Type path to data source path\", description=\"Source File:\")\n",
    "ctl_class_type = widgets.Text(placeholder=\"svm bayes log_regression\", description=\"Classifier type\")\n",
    "display(ctl_input_file)\n",
    "display(ctl_class_type)\n"
   ]
  },
  {
   "cell_type": "code",
   "execution_count": 24,
   "metadata": {
    "extensions": {
     "jupyter_dashboards": {
      "version": 1,
      "views": {
       "grid_default": {
        "col": 8,
        "height": 4,
        "hidden": false,
        "row": 4,
        "width": 4
       },
       "report_default": {
        "hidden": false
       }
      }
     }
    }
   },
   "outputs": [
    {
     "name": "stdout",
     "output_type": "stream",
     "text": [
      "File source: data/03_final_training_sheets/test_data_staffing.tsv\n",
      "Classifier: bayes\n"
     ]
    }
   ],
   "source": [
    "data_source = ctl_input_file.value\n",
    "print \"File source:\", data_source\n",
    "class_type = ctl_class_type.value\n",
    "print \"Classifier:\", class_type"
   ]
  },
  {
   "cell_type": "code",
   "execution_count": 25,
   "metadata": {
    "extensions": {
     "jupyter_dashboards": {
      "version": 1,
      "views": {
       "grid_default": {
        "col": 0,
        "height": 7,
        "hidden": false,
        "row": 8,
        "width": 4
       },
       "report_default": {
        "hidden": false
       }
      }
     }
    }
   },
   "outputs": [
    {
     "name": "stdout",
     "output_type": "stream",
     "text": [
      "Opening data/03_final_training_sheets/test_data_staffing.tsv for data and loading X,Y classes\n",
      "\n",
      "Count of classes loaded:\n",
      "\tclass 0: 6\n",
      "\tclass 1: 9\n",
      "HERE!_> <type 'numpy.ndarray'>\n",
      "Training Model ...\n",
      "Start an iteration\n",
      "Creating classifier from clf_factory()\n",
      "Using MultinomialNB classifier\n",
      "Fitting model to X, y training data, this may take a while...\n",
      "DONE training, saving model.\n",
      "Model is saved!\n",
      "Train Score: 1.0\n",
      "Test Score: 0.75\n",
      "Train Error: [0.0]\n",
      "Test Error: [0.25]\n",
      "Proba: [[ 0.35337972  0.64662028]\n",
      " [ 0.36161451  0.63838549]\n",
      " [ 0.30752514  0.69247486]\n",
      " [ 0.40705178  0.59294822]]\n",
      "calling roc_curve\n",
      "fpr [ 0.  0.  1.] tpr [ 0.33333333  1.          1.        ] roc_thresholds [ 0.69247486  0.63838549  0.59294822]\n",
      "precision: [ 1.  1.  1.  1.]\n",
      "recall: [ 1.          0.66666667  0.33333333  0.        ]\n",
      ".\n",
      "CALLING PLOT_PR\n"
     ]
    },
    {
     "data": {
      "text/plain": [
       "<matplotlib.figure.Figure at 0x111999510>"
      ]
     },
     "metadata": {},
     "output_type": "display_data"
    },
    {
     "data": {
      "image/png": "[encoded data removed]",
      "text/plain": [
       "<matplotlib.figure.Figure at 0x11544bf50>"
      ]
     },
     "metadata": {},
     "output_type": "display_data"
    },
    {
     "name": "stdout",
     "output_type": "stream",
     "text": [
      "Mean: 0.750\tSTD: 0.000\tMEAN_SCORES\t1.000\tSTD_SCORES:\t0.000\t\n",
      "0.0 0.25\n",
      "CPU times: user 1.05 s, sys: 52.5 ms, total: 1.11 s\n",
      "Wall time: 1.09 s\n"
     ]
    }
   ],
   "source": [
    "%%time\n",
    "%matplotlib inline\n",
    "import pandas as pd\n",
    "import numpy as np\n",
    "import time\n",
    "\n",
    "import classification.train_classifier as bc\n",
    "import classification.utils as utils\n",
    "\n",
    "## ***** INPUTS ***** \n",
    "data_source_file = ctl_input_file.value #'data_for_classification_balanced.tsv'\n",
    "class_type = ctl_class_type.value\n",
    "save_path = 'data/04_models'\n",
    "## **** END INPUTS ****\n",
    "\n",
    "\n",
    "models = {\n",
    "    'svm': bc.create_svm_model,\n",
    "    'bayes': bc.create_ngram_model,\n",
    "    'log_regression': bc.create_lg_model\n",
    "}\n",
    "\n",
    "classifier = models[class_type] \n",
    "\n",
    "print \"Opening {} for data and loading X,Y classes\".format(data_source_file)\n",
    "data = pd.read_csv(data_source_file, delimiter='\\t', encoding='utf-8')\n",
    "\n",
    "X_orig = data.iloc[:, 1].values\n",
    "Y_orig = data.iloc[:, 2].values\n",
    "\n",
    "print \"\\nCount of classes loaded:\"\n",
    "classes = np.unique(Y_orig)\n",
    "for c in classes:\n",
    "    print(\"\\tclass %s: %i\" % (c, sum(Y_orig == c)))\n",
    "\n",
    "pos_neg = np.logical_or(Y_orig == 1, Y_orig == 0)\n",
    "X = X_orig[pos_neg]\n",
    "Y = Y_orig[pos_neg]\n",
    "\n",
    "Y = utils.tweak_labels(Y, [1])\n",
    "\n",
    "print \"Training Model ...\"\n",
    "bc.train_model(classifier, X, Y, save_path, class_type, plot=True)\n"
   ]
  },
  {
   "cell_type": "code",
   "execution_count": null,
   "metadata": {
    "collapsed": true
   },
   "outputs": [],
   "source": []
  }
 ],
 "metadata": {
  "extensions": {
   "jupyter_dashboards": {
    "activeView": "report_default",
    "version": 1,
    "views": {
     "grid_default": {
      "cellMargin": 10,
      "defaultCellHeight": 20,
      "maxColumns": 12,
      "name": "grid",
      "type": "grid"
     },
     "report_default": {
      "name": "report",
      "type": "report"
     }
    }
   }
  },
  "kernelspec": {
   "display_name": "Python 2",
   "language": "python",
   "name": "python2"
  },
  "language_info": {
   "codemirror_mode": {
    "name": "ipython",
    "version": 2
   },
   "file_extension": ".py",
   "mimetype": "text/x-python",
   "name": "python",
   "nbconvert_exporter": "python",
   "pygments_lexer": "ipython2",
   "version": "2.7.10"
  }
 },
 "nbformat": 4,
 "nbformat_minor": 2
}
